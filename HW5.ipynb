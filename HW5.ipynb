{
 "cells": [
  {
   "cell_type": "markdown",
   "metadata": {
    "id": "PlK2M0CRbmrb"
   },
   "source": [
    "# HW 5"
   ]
  },
  {
   "cell_type": "markdown",
   "metadata": {
    "id": "YfCMNRQdbmrd"
   },
   "source": [
    "## Instructions\n",
    "\n",
    "* The course will be using an automatic grading system.\n",
    "* After each question there will appear a code block with some prepared code to add your answer to a dictionary that will be converted into a data frame, saved as CSV and uploaded to moodle for grading.\n",
    "* Please do not edit any code other than in placeholders marked `#### your code here ####`, **notice the answer could also be a simple number or string, not an actual code**\n",
    "* Don't forget to run the code block after you write your answer.\n",
    "* You can add code blocks wherever you want in order to interact with datasets and play with your own code.\n",
    "* In the next code block please fill in your ID number and email account as strings in the appropriate places.\n",
    "* And don't forget to run the block!"
   ]
  },
  {
   "cell_type": "code",
   "execution_count": null,
   "metadata": {
    "id": "shmbfA9ibmre"
   },
   "outputs": [],
   "source": [
    "ans = {}\n",
    "ans['HW'] = 'HW5'\n",
    "ans['id_number'] = #### your code here ####\n",
    "ans['email'] = #### your code here ####"
   ]
  },
  {
   "cell_type": "markdown",
   "metadata": {},
   "source": [
    "## Statistical Inference"
   ]
  },
  {
   "cell_type": "markdown",
   "metadata": {},
   "source": [
    "### Q1.\n",
    "\n",
    "Suppose that the difference between the forecast maximum temperature and the actual maximum temperature (in degrees Celsius) in a city is Normally distributed with mean 0 and standard deviation 1.2.\n",
    "\n",
    "What is the probability that the actual maximum is within 1.0 degrees of the forecast maximum?\n",
    "\n",
    "1.   0.500\n",
    "2.   0.595\n",
    "3.   0.687\n",
    "4.   0.721"
   ]
  },
  {
   "cell_type": "code",
   "execution_count": null,
   "metadata": {},
   "outputs": [],
   "source": [
    "ans['Q1'] = #### your answer here ####"
   ]
  },
  {
   "cell_type": "markdown",
   "metadata": {},
   "source": [
    "### Q2.\n",
    "\n",
    "\"Everyone knows\" a bag of Bamba holds 8000 Bambas on average with standard deviation 900. Avi is suspicious and says \"no way it is 8000\". He randomly samples 36 bags of Bamba (see the `X` variable below). Assume the underlying population is normal, with known variance."
   ]
  },
  {
   "cell_type": "code",
   "execution_count": 18,
   "metadata": {},
   "outputs": [],
   "source": [
    "import numpy as np\n",
    "\n",
    "X = np.array([8391, 8454, 8824, 8740, 8438, 8595, 8952, 8127, 8217, 8857, 8602,\n",
    "       8547, 8453, 8449, 8345, 9075, 8872, 9086, 9178, 8657, 8840, 8659,\n",
    "       8379, 8685, 8192, 8399, 8144, 7943, 9070, 8435, 8572, 8787, 8530,\n",
    "       8690, 8529])"
   ]
  },
  {
   "cell_type": "markdown",
   "metadata": {},
   "source": [
    "Would you reject the null hypothesis with significance level of $\\alpha=0.05$?\n",
    "$$ H_0:\\mu=8000 $$\n",
    "$$ H_1:\\mu\\ne8000$$\n",
    "What could be the error under this decision?\n",
    "\n",
    "1.   We should **reject** $H_0$ and we might have type I error\n",
    "2.   We should **reject** $H_0$ and we might have type II error\n",
    "3.   We should **not reject** $H_0$ and we might have type II error\n",
    "4.   The information is insufficient to make a decision"
   ]
  },
  {
   "cell_type": "code",
   "execution_count": null,
   "metadata": {},
   "outputs": [],
   "source": [
    "ans['Q2'] = #### your answer here ####"
   ]
  },
  {
   "cell_type": "markdown",
   "metadata": {},
   "source": [
    "### Q3.\n",
    "Turns out Avi is right, and the real mean of Bambas in a bag is 7700 Bambas, same standard deviation. What is the power of his test? (I strongly encourage you to **draw**)\n",
    "\n",
    "1. 0.05\n",
    "2. 0.48\n",
    "3. 0.52\n",
    "4. 0.64"
   ]
  },
  {
   "cell_type": "code",
   "execution_count": null,
   "metadata": {},
   "outputs": [],
   "source": [
    "ans['Q3'] = #### your answer here ####"
   ]
  },
  {
   "cell_type": "markdown",
   "metadata": {},
   "source": [
    "### Q4.\n",
    "\n",
    "Thinking of a criminal trial as a hypothesis test where the null hypothesis is innocence, how do we map the concepts of power, type-1 error to this setting?\n",
    "\n",
    "1. Power: how strong is the evidence against the defendant; type-1 error: probability of acquitting a guilty person\n",
    "\n",
    "2. Power: the probability to convict an innocent person; type-1 error: probability of convicting an innocent person\n",
    "\n",
    "3. Power: probability that the judge will make the right decision; type-1 error: probability that the judge will make a mistake\n",
    "\n",
    "4. Power: probability to convict a guilty person; type-1 error: probability of convicting an innocent person"
   ]
  },
  {
   "cell_type": "code",
   "execution_count": null,
   "metadata": {},
   "outputs": [],
   "source": [
    "ans['Q4'] = #### your answer here ####"
   ]
  },
  {
   "cell_type": "markdown",
   "metadata": {},
   "source": [
    "### Q5.\n",
    "\n",
    "A maker of lightbulbs claims their lifespan distributes exponentially with mean 1 year. Keren says \"this is ridiculous, the mean lifespan is much shorter\". She buys 30 lightbulbs from the maker, turns them on, and decides to look at the minimum lifespan, that is the time until the first lightbulb burns out. If it is too small she will conclude that she is right and the mean lifespan is shorter than a year.\n",
    "\n",
    "The answer came pretty quickly! After 0.365 days (1/1000 of a year) the first lightbulb burned out. What is Keren's P-value? Should she reject $H_0$ with $\\alpha=0.05$?\n",
    "\n",
    "**Hint**: Go to [wikipedia](https://en.wikipedia.org/wiki/Exponential_distribution) and find out what is the distribution of a minimum of $n$ RVs which distribute $Exp(\\lambda)$.\n",
    "\n",
    "1. 0.03, not reject $H_0$\n",
    "1. 0.03, reject $H_0$\n",
    "1. 0.059, not reject $H_0$\n",
    "1. 0.036, reject $H_0$"
   ]
  },
  {
   "cell_type": "code",
   "execution_count": 81,
   "metadata": {},
   "outputs": [],
   "source": [
    "ans['Q5'] = #### your answer here ####"
   ]
  },
  {
   "cell_type": "markdown",
   "metadata": {},
   "source": [
    "### Q6.\n",
    "\"That was too easy,\" said Keren. \"I'll wait until all 30 bulbs burn out and look at the average lifespan.\"\n",
    "\n",
    "This took a while, but the observed average lifespan was 10 months (5/6 a year). What is Keren's P-value? Should she reject $H_0$ with $\\alpha=0.05$?\n",
    "\n",
    "**Use normal approximation with known variance** (though you might want to read about the [Erlang](https://en.wikipedia.org/wiki/Erlang_distribution) distribution!)\n",
    "\n",
    "1. 0.006, not reject $H_0$\n",
    "2. 0.006, reject $H_0$\n",
    "3. 0.18, not reject $H_0$\n",
    "4. 0.18, reject $H_0$"
   ]
  },
  {
   "cell_type": "code",
   "execution_count": null,
   "metadata": {},
   "outputs": [],
   "source": [
    "ans['Q6'] = #### your answer here ####"
   ]
  },
  {
   "cell_type": "markdown",
   "metadata": {},
   "source": [
    "### Q7.\n",
    "The truth is Keren is right, the mean lifespan of the maker's lightbulbs is only half a year. Which of her tests is more powerful?\n",
    "\n",
    "1. The 1st test \"minimum lifespan\"\n",
    "2. The 2nd test \"average lifespan\"\n",
    "3. Same power after rounding to 2 decimal digits\n",
    "4. Comparing the power of two tests is not valid"
   ]
  },
  {
   "cell_type": "code",
   "execution_count": null,
   "metadata": {},
   "outputs": [],
   "source": [
    "ans['Q7'] = #### your answer here ####"
   ]
  },
  {
   "cell_type": "markdown",
   "metadata": {},
   "source": [
    "### Q8.\n",
    "Let us see if a die is fair (producing each possible output [1,6] with an equal probability of 1/6).\n",
    "\n",
    "Let us use this test:\n",
    "\n",
    "1. Roll the die and get `die_roll`.\n",
    "2. Multiply the result by a random number from distribution $Exp(\\frac{die\\_roll+1}{2})\n",
    "$\n",
    "3. Add to the previous result, the original `die_roll` squared.\n",
    "\n",
    "And we shall reject $H_0$ (that the die is fair) if the test statistic is greater or equal to 70.\n",
    "\n",
    "Does this procedure preserve a type one error rate of at most 0.05?\n",
    "\n",
    "**Use a simulation to answer, and use n=100000 simulations.**\n",
    "\n",
    "1. yes\n",
    "2. no"
   ]
  },
  {
   "cell_type": "code",
   "execution_count": null,
   "metadata": {},
   "outputs": [],
   "source": [
    "ans['Q8'] = #### your answer here ####"
   ]
  },
  {
   "cell_type": "markdown",
   "metadata": {},
   "source": [
    "### Q9.\n",
    "With an alternative hypothesis that the die lands on 5 or 6, each with probability 0.5 (and never lands on [1,2,3,4]):\n",
    "\n",
    "what is the power of following our procedure?\n",
    "\n",
    "**Use a simulation to answer, and use n=100000 simulations.**\n",
    "\n",
    "1. 0.88\n",
    "2. 0.76\n",
    "3. 0.24\n",
    "4. 0.12"
   ]
  },
  {
   "cell_type": "code",
   "execution_count": null,
   "metadata": {},
   "outputs": [],
   "source": [
    "ans['Q9'] = #### your answer here ####"
   ]
  },
  {
   "cell_type": "markdown",
   "metadata": {},
   "source": [
    "### Q10.\n",
    "\n",
    "With the same setting of Q9, what woud be the type II error probability?\n",
    "\n",
    "1. 0.88\n",
    "2. 0.76\n",
    "3. 0.24\n",
    "4. 0.12"
   ]
  },
  {
   "cell_type": "code",
   "execution_count": null,
   "metadata": {},
   "outputs": [],
   "source": [
    "ans['Q10'] = #### your answer here ####"
   ]
  },
  {
   "cell_type": "markdown",
   "metadata": {
    "id": "fJTEYy2hCpUi"
   },
   "source": [
    "# Finish!"
   ]
  },
  {
   "cell_type": "markdown",
   "metadata": {
    "id": "C3krdd3wwimf"
   },
   "source": [
    "* To submit your HW please run this last code block and follow the instructions.\n",
    "* This code will create a CSV file in the current directory on your local machine or in your google drive (Google Colab)\n",
    "* Please download it and upload it to the moodle HW1\n",
    "* Make sure that you write your ID correctly!"
   ]
  },
  {
   "cell_type": "code",
   "execution_count": null,
   "metadata": {},
   "outputs": [],
   "source": [
    "import pandas as pd\n",
    "\n",
    "df_ans = pd.DataFrame.from_dict(ans, orient='index')\n",
    "if df_ans.shape[0] == 13:\n",
    "  df_ans.to_csv('{}_{}.csv'.format(ans['HW'],str(ans['id_number'])))\n",
    "else:\n",
    "    print(\"seems like you missed a question, make sure you have run all the code blocks\")"
   ]
  },
  {
   "cell_type": "markdown",
   "metadata": {},
   "source": [
    "**For Google Colab users who want to save their CSV in their drive**\n",
    "\n",
    "* Run the following script.\n",
    "* Note that you will need to authorize GD once. For more information: https://colab.research.google.com/notebooks/io.ipynb (under Mounting Google Drive locally)\n",
    "* You may change the path to be in your inner folder at GD, or not use GD at all and just manually download the CSV file to your local machine.\n",
    "* Eventually upload the CSV to Moodle."
   ]
  },
  {
   "cell_type": "code",
   "execution_count": null,
   "metadata": {},
   "outputs": [],
   "source": [
    "from google.colab import drive\n",
    "drive.mount('/content/drive')\n",
    "\n",
    "# Three options of the path of the file \n",
    "path ='/content/drive/MyDrive/' # general outer folder\n",
    "# path = '/content/drive/MyDrive/Colab Notebooks/Intro_DS_2023/HW/HW5/' # assuming an inner folder called Intro_DS_2023 etc.\n",
    "# path = './' # here, in this notebook environment\n",
    "\n",
    "import pandas as pd \n",
    "df_ans = pd.DataFrame.from_dict(ans, orient='index')\n",
    "\n",
    "if df_ans.shape[0] == 13:\n",
    "  df_ans.to_csv(path+'{}_{}.csv'.format(ans['HW'],str(ans['id_number'])))\n",
    "else:\n",
    "    print(\"seems like you missed a question, make sure you have run all the code blocks\")\n"
   ]
  }
 ],
 "metadata": {
  "kernelspec": {
   "display_name": "Python 3 (ipykernel)",
   "language": "python",
   "name": "python3"
  },
  "language_info": {
   "codemirror_mode": {
    "name": "ipython",
    "version": 3
   },
   "file_extension": ".py",
   "mimetype": "text/x-python",
   "name": "python",
   "nbconvert_exporter": "python",
   "pygments_lexer": "ipython3",
   "version": "3.8.7"
  }
 },
 "nbformat": 4,
 "nbformat_minor": 4
}
