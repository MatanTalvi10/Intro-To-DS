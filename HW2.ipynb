{
 "cells": [
  {
   "cell_type": "markdown",
   "metadata": {
    "id": "uKHgaMcjCpSw"
   },
   "source": [
    "# HW 2"
   ]
  },
  {
   "cell_type": "markdown",
   "metadata": {
    "id": "n2clz3-bCpSz"
   },
   "source": [
    "## Instructions\n",
    "\n",
    "* The course will be using an automatic grading system.\n",
    "* After each question there will appear a code block with some prepared code to add your answer to a dictionary that will be converted into a data frame, saved as CSV and uploaded to moodle for grading.\n",
    "* Please do not edit any code other than in placeholders marked `#### your code here ####`\n",
    "* Don't forget to run the code block after you write your answer.\n",
    "* You can add code blocks wherever you want in order to interact with datasets and play with your own code.\n",
    "* In the next code block please fill in your ID number and email account as strings in the appropriate places.\n",
    "* And don't forget to run the block!"
   ]
  },
  {
   "cell_type": "code",
   "execution_count": null,
   "metadata": {
    "id": "u9EaHG06CpS1"
   },
   "outputs": [],
   "source": [
    "ans = {}\n",
    "ans['HW'] = 'HW2'\n",
    "ans['id_number'] = #### your code here ####\n",
    "ans['email'] = #### your code here ####"
   ]
  },
  {
   "cell_type": "markdown",
   "metadata": {
    "id": "9H-LTpDGifGV"
   },
   "source": [
    "## Avocado Data\n",
    "\n",
    "For this assignment you will need to import two csv files which can be found in moodle: `avocade_price.csv` which contains 2015-2018 daily price for avocado across the US, and `avocado_bags.csv` which contains 2015-2018 daily no. of avocado bags sold across the US."
   ]
  },
  {
   "cell_type": "markdown",
   "metadata": {
    "id": "XbIM_dc_CpTx"
   },
   "source": [
    "## Pandas"
   ]
  },
  {
   "cell_type": "markdown",
   "metadata": {
    "id": "SbPD2t_LCpTy"
   },
   "source": [
    "* In this section we will be interacting with a real dataset.\n",
    "* This next block loads the dataset from the repository.\n",
    "* Remember you are able to add code blocks to interact with the dataset.\n",
    "* If at any point you think that you might have altered the original data, you can simply rerun this code block to load a fresh copy.\n",
    "* Please do not change the blocks that record your answer to the `ans` dictionary.\n",
    "* The pandas documentation, and specifically the list of `DataFrame` methods might be helpful, [here](https://pandas.pydata.org/pandas-docs/stable/reference/frame.html)."
   ]
  },
  {
   "cell_type": "code",
   "execution_count": null,
   "metadata": {
    "colab": {
     "base_uri": "https://localhost:8080/",
     "height": 206
    },
    "executionInfo": {
     "elapsed": 1351,
     "status": "ok",
     "timestamp": 1671196652101,
     "user": {
      "displayName": "Giora Simchoni",
      "userId": "07886879145318559495"
     },
     "user_tz": -120
    },
    "id": "VaCob2_CCpT0",
    "outputId": "860a4159-74e5-4033-cba6-20872f52660c"
   },
   "outputs": [
    {
     "data": {
      "text/html": [
       "\n",
       "  <div id=\"df-d30ba440-5ddb-4e6d-8344-bada00d7ab2c\">\n",
       "    <div class=\"colab-df-container\">\n",
       "      <div>\n",
       "<style scoped>\n",
       "    .dataframe tbody tr th:only-of-type {\n",
       "        vertical-align: middle;\n",
       "    }\n",
       "\n",
       "    .dataframe tbody tr th {\n",
       "        vertical-align: top;\n",
       "    }\n",
       "\n",
       "    .dataframe thead th {\n",
       "        text-align: right;\n",
       "    }\n",
       "</style>\n",
       "<table border=\"1\" class=\"dataframe\">\n",
       "  <thead>\n",
       "    <tr style=\"text-align: right;\">\n",
       "      <th></th>\n",
       "      <th>Date</th>\n",
       "      <th>price</th>\n",
       "      <th>year</th>\n",
       "      <th>region</th>\n",
       "    </tr>\n",
       "  </thead>\n",
       "  <tbody>\n",
       "    <tr>\n",
       "      <th>0</th>\n",
       "      <td>12/27/15</td>\n",
       "      <td>1.33</td>\n",
       "      <td>2015</td>\n",
       "      <td>Albany</td>\n",
       "    </tr>\n",
       "    <tr>\n",
       "      <th>1</th>\n",
       "      <td>12/20/15</td>\n",
       "      <td>1.35</td>\n",
       "      <td>2015</td>\n",
       "      <td>Albany</td>\n",
       "    </tr>\n",
       "    <tr>\n",
       "      <th>2</th>\n",
       "      <td>12/13/15</td>\n",
       "      <td>0.93</td>\n",
       "      <td>2015</td>\n",
       "      <td>Albany</td>\n",
       "    </tr>\n",
       "    <tr>\n",
       "      <th>3</th>\n",
       "      <td>12/6/15</td>\n",
       "      <td>1.08</td>\n",
       "      <td>2015</td>\n",
       "      <td>Albany</td>\n",
       "    </tr>\n",
       "    <tr>\n",
       "      <th>4</th>\n",
       "      <td>11/29/15</td>\n",
       "      <td>1.28</td>\n",
       "      <td>2015</td>\n",
       "      <td>Albany</td>\n",
       "    </tr>\n",
       "  </tbody>\n",
       "</table>\n",
       "</div>\n",
       "      <button class=\"colab-df-convert\" onclick=\"convertToInteractive('df-d30ba440-5ddb-4e6d-8344-bada00d7ab2c')\"\n",
       "              title=\"Convert this dataframe to an interactive table.\"\n",
       "              style=\"display:none;\">\n",
       "        \n",
       "  <svg xmlns=\"http://www.w3.org/2000/svg\" height=\"24px\"viewBox=\"0 0 24 24\"\n",
       "       width=\"24px\">\n",
       "    <path d=\"M0 0h24v24H0V0z\" fill=\"none\"/>\n",
       "    <path d=\"M18.56 5.44l.94 2.06.94-2.06 2.06-.94-2.06-.94-.94-2.06-.94 2.06-2.06.94zm-11 1L8.5 8.5l.94-2.06 2.06-.94-2.06-.94L8.5 2.5l-.94 2.06-2.06.94zm10 10l.94 2.06.94-2.06 2.06-.94-2.06-.94-.94-2.06-.94 2.06-2.06.94z\"/><path d=\"M17.41 7.96l-1.37-1.37c-.4-.4-.92-.59-1.43-.59-.52 0-1.04.2-1.43.59L10.3 9.45l-7.72 7.72c-.78.78-.78 2.05 0 2.83L4 21.41c.39.39.9.59 1.41.59.51 0 1.02-.2 1.41-.59l7.78-7.78 2.81-2.81c.8-.78.8-2.07 0-2.86zM5.41 20L4 18.59l7.72-7.72 1.47 1.35L5.41 20z\"/>\n",
       "  </svg>\n",
       "      </button>\n",
       "      \n",
       "  <style>\n",
       "    .colab-df-container {\n",
       "      display:flex;\n",
       "      flex-wrap:wrap;\n",
       "      gap: 12px;\n",
       "    }\n",
       "\n",
       "    .colab-df-convert {\n",
       "      background-color: #E8F0FE;\n",
       "      border: none;\n",
       "      border-radius: 50%;\n",
       "      cursor: pointer;\n",
       "      display: none;\n",
       "      fill: #1967D2;\n",
       "      height: 32px;\n",
       "      padding: 0 0 0 0;\n",
       "      width: 32px;\n",
       "    }\n",
       "\n",
       "    .colab-df-convert:hover {\n",
       "      background-color: #E2EBFA;\n",
       "      box-shadow: 0px 1px 2px rgba(60, 64, 67, 0.3), 0px 1px 3px 1px rgba(60, 64, 67, 0.15);\n",
       "      fill: #174EA6;\n",
       "    }\n",
       "\n",
       "    [theme=dark] .colab-df-convert {\n",
       "      background-color: #3B4455;\n",
       "      fill: #D2E3FC;\n",
       "    }\n",
       "\n",
       "    [theme=dark] .colab-df-convert:hover {\n",
       "      background-color: #434B5C;\n",
       "      box-shadow: 0px 1px 3px 1px rgba(0, 0, 0, 0.15);\n",
       "      filter: drop-shadow(0px 1px 2px rgba(0, 0, 0, 0.3));\n",
       "      fill: #FFFFFF;\n",
       "    }\n",
       "  </style>\n",
       "\n",
       "      <script>\n",
       "        const buttonEl =\n",
       "          document.querySelector('#df-d30ba440-5ddb-4e6d-8344-bada00d7ab2c button.colab-df-convert');\n",
       "        buttonEl.style.display =\n",
       "          google.colab.kernel.accessAllowed ? 'block' : 'none';\n",
       "\n",
       "        async function convertToInteractive(key) {\n",
       "          const element = document.querySelector('#df-d30ba440-5ddb-4e6d-8344-bada00d7ab2c');\n",
       "          const dataTable =\n",
       "            await google.colab.kernel.invokeFunction('convertToInteractive',\n",
       "                                                     [key], {});\n",
       "          if (!dataTable) return;\n",
       "\n",
       "          const docLinkHtml = 'Like what you see? Visit the ' +\n",
       "            '<a target=\"_blank\" href=https://colab.research.google.com/notebooks/data_table.ipynb>data table notebook</a>'\n",
       "            + ' to learn more about interactive tables.';\n",
       "          element.innerHTML = '';\n",
       "          dataTable['output_type'] = 'display_data';\n",
       "          await google.colab.output.renderOutput(dataTable, element);\n",
       "          const docLink = document.createElement('div');\n",
       "          docLink.innerHTML = docLinkHtml;\n",
       "          element.appendChild(docLink);\n",
       "        }\n",
       "      </script>\n",
       "    </div>\n",
       "  </div>\n",
       "  "
      ],
      "text/plain": [
       "       Date  price  year  region\n",
       "0  12/27/15   1.33  2015  Albany\n",
       "1  12/20/15   1.35  2015  Albany\n",
       "2  12/13/15   0.93  2015  Albany\n",
       "3   12/6/15   1.08  2015  Albany\n",
       "4  11/29/15   1.28  2015  Albany"
      ]
     },
     "execution_count": 2,
     "metadata": {},
     "output_type": "execute_result"
    }
   ],
   "source": [
    "import pandas as pd\n",
    "\n",
    "# This assumes you have avocado_fixed.csv in the notebook folder\n",
    "# If you're working with a folder in Gooogle Drive and want to read from it - \n",
    "# Mount the drive, either by pressing the mount drive button or by running:\n",
    "# from google.colab import drive\n",
    "# drive.mount('/content/drive')\n",
    "# then, reading the csv from the relevant `path` with\n",
    "# df_avocado = pd.read_csv(path + 'avocado_fixed.csv')\n",
    "\n",
    "df_avocado = pd.read_csv('avocado_price.csv')\n",
    "print('Avocado prices data has %d rows and %d columns' % df_avocado.shape)\n",
    "df_avocado.head()"
   ]
  },
  {
   "cell_type": "markdown",
   "metadata": {
    "id": "M4uJ-2t1ps3m"
   },
   "source": [
    "### Q1.\n",
    "What is the median of the `year` column?\n",
    "\n",
    "1. 2015\n",
    "\n",
    "2. 2016\n",
    "\n",
    "3. 2017\n",
    "\n",
    "4. 2018"
   ]
  },
  {
   "cell_type": "code",
   "execution_count": null,
   "metadata": {
    "id": "2tQjoxQCptPX"
   },
   "outputs": [],
   "source": [
    "ans['Q1'] = #### your code here ####"
   ]
  },
  {
   "cell_type": "markdown",
   "metadata": {
    "id": "zgYeHmIzCpT4"
   },
   "source": [
    "### Q2.\n",
    "On what date and region was the price the highest?\n",
    "\n",
    "1. PhoenixTucson - 2/5/17\n",
    "\n",
    "2. Chicago - 10/8/17\n",
    "\n",
    "3. SanFrancisco - 10/30/16\n",
    "\n",
    "4. LosAngeles 2/5/17\n",
    "\n",
    "__Hint:__ the pandas data frame method `sort_values()` can come in handy, look it up in the pandas documentation."
   ]
  },
  {
   "cell_type": "code",
   "execution_count": null,
   "metadata": {
    "id": "xgx3XQKfCpT5"
   },
   "outputs": [],
   "source": [
    "ans['Q2'] = #### your code here ####"
   ]
  },
  {
   "cell_type": "markdown",
   "metadata": {},
   "source": [
    "### Q3.\n",
    "How many days are there in the data for the `SanFrancisco` region, in the year 2018?\n",
    "\n",
    "1. 5\n",
    "2. 12\n",
    "3. 13\n",
    "4. 53"
   ]
  },
  {
   "cell_type": "code",
   "execution_count": null,
   "metadata": {},
   "outputs": [],
   "source": [
    "ans['Q3'] = #### your code here ####"
   ]
  },
  {
   "cell_type": "markdown",
   "metadata": {
    "id": "90D109gCCpT-"
   },
   "source": [
    "### Q4.\n",
    "Which region had the lowest price for the entire period? (on average)\n",
    "\n",
    "1. Albany\n",
    "\n",
    "2. HartfordSpringfield\n",
    "\n",
    "3. Houston\n",
    "\n",
    "4. PhoenixTucson"
   ]
  },
  {
   "cell_type": "markdown",
   "metadata": {
    "id": "gN6l_w-_pIlg"
   },
   "source": [
    "__Hint:__ `groupby` and `agg`."
   ]
  },
  {
   "cell_type": "code",
   "execution_count": null,
   "metadata": {
    "id": "j2Gsb4RJCpUA"
   },
   "outputs": [],
   "source": [
    "ans['Q4'] = #### your code here ####"
   ]
  },
  {
   "cell_type": "markdown",
   "metadata": {
    "id": "PMYSpEetCpUD"
   },
   "source": [
    "### Q5.\n",
    "In what year were avocado prices the lowest? (on average)\n",
    "\n",
    "1. 2015\n",
    "\n",
    "2. 2016\n",
    "\n",
    "3. 2017\n",
    "\n",
    "4. 2018"
   ]
  },
  {
   "cell_type": "code",
   "execution_count": null,
   "metadata": {
    "id": "grEkpIDiCpUE"
   },
   "outputs": [],
   "source": [
    "ans['Q5'] = #### your code here ####"
   ]
  },
  {
   "cell_type": "markdown",
   "metadata": {
    "id": "l8NXhMzHCpUH"
   },
   "source": [
    "### Q6.\n",
    "In what year were the prices lowest in Indianapolis? (on average)\n",
    "\n",
    "1. 2015\n",
    "\n",
    "2. 2016\n",
    "\n",
    "3. 2017\n",
    "\n",
    "4. 2018"
   ]
  },
  {
   "cell_type": "code",
   "execution_count": null,
   "metadata": {
    "id": "wf1uZsvhCpUI"
   },
   "outputs": [],
   "source": [
    "ans['Q6'] = #### your code here ####"
   ]
  },
  {
   "cell_type": "markdown",
   "metadata": {
    "id": "1ppIpuoutZtv"
   },
   "source": [
    "### Q7.\n",
    "What is the median price in the Columbus region in 2017?\n",
    "\n",
    "1. 1.015\n",
    "\n",
    "2. 1.030\n",
    "\n",
    "3. 1.100\n",
    "\n",
    "4. 1.163"
   ]
  },
  {
   "cell_type": "code",
   "execution_count": null,
   "metadata": {
    "id": "DLje56lMupTA"
   },
   "outputs": [],
   "source": [
    "ans['Q7'] = #### your code here ####"
   ]
  },
  {
   "cell_type": "markdown",
   "metadata": {
    "id": "PZo1X7JvCpUM"
   },
   "source": [
    "---\n",
    "\n",
    "We will now load some additional data to play with. The new data set holds number of avocado bags sold in each region for the same period."
   ]
  },
  {
   "cell_type": "code",
   "execution_count": null,
   "metadata": {
    "colab": {
     "base_uri": "https://localhost:8080/",
     "height": 206
    },
    "executionInfo": {
     "elapsed": 437,
     "status": "ok",
     "timestamp": 1671197257069,
     "user": {
      "displayName": "Giora Simchoni",
      "userId": "07886879145318559495"
     },
     "user_tz": -120
    },
    "id": "-aDTL74KsKEG",
    "outputId": "c6d5b264-7f86-47b9-b0ef-a793d511ae7b"
   },
   "outputs": [
    {
     "data": {
      "text/html": [
       "\n",
       "  <div id=\"df-c63acb2e-496c-4a06-bdb8-8bcbaeb43f3a\">\n",
       "    <div class=\"colab-df-container\">\n",
       "      <div>\n",
       "<style scoped>\n",
       "    .dataframe tbody tr th:only-of-type {\n",
       "        vertical-align: middle;\n",
       "    }\n",
       "\n",
       "    .dataframe tbody tr th {\n",
       "        vertical-align: top;\n",
       "    }\n",
       "\n",
       "    .dataframe thead th {\n",
       "        text-align: right;\n",
       "    }\n",
       "</style>\n",
       "<table border=\"1\" class=\"dataframe\">\n",
       "  <thead>\n",
       "    <tr style=\"text-align: right;\">\n",
       "      <th></th>\n",
       "      <th>Date</th>\n",
       "      <th>num_bags</th>\n",
       "      <th>year</th>\n",
       "      <th>region</th>\n",
       "    </tr>\n",
       "  </thead>\n",
       "  <tbody>\n",
       "    <tr>\n",
       "      <th>0</th>\n",
       "      <td>12/27/15</td>\n",
       "      <td>8696.87</td>\n",
       "      <td>2015</td>\n",
       "      <td>Albany</td>\n",
       "    </tr>\n",
       "    <tr>\n",
       "      <th>1</th>\n",
       "      <td>12/20/15</td>\n",
       "      <td>9505.56</td>\n",
       "      <td>2015</td>\n",
       "      <td>Albany</td>\n",
       "    </tr>\n",
       "    <tr>\n",
       "      <th>2</th>\n",
       "      <td>12/13/15</td>\n",
       "      <td>8145.35</td>\n",
       "      <td>2015</td>\n",
       "      <td>Albany</td>\n",
       "    </tr>\n",
       "    <tr>\n",
       "      <th>3</th>\n",
       "      <td>12/6/15</td>\n",
       "      <td>5811.16</td>\n",
       "      <td>2015</td>\n",
       "      <td>Albany</td>\n",
       "    </tr>\n",
       "    <tr>\n",
       "      <th>4</th>\n",
       "      <td>11/29/15</td>\n",
       "      <td>6183.95</td>\n",
       "      <td>2015</td>\n",
       "      <td>Albany</td>\n",
       "    </tr>\n",
       "  </tbody>\n",
       "</table>\n",
       "</div>\n",
       "      <button class=\"colab-df-convert\" onclick=\"convertToInteractive('df-c63acb2e-496c-4a06-bdb8-8bcbaeb43f3a')\"\n",
       "              title=\"Convert this dataframe to an interactive table.\"\n",
       "              style=\"display:none;\">\n",
       "        \n",
       "  <svg xmlns=\"http://www.w3.org/2000/svg\" height=\"24px\"viewBox=\"0 0 24 24\"\n",
       "       width=\"24px\">\n",
       "    <path d=\"M0 0h24v24H0V0z\" fill=\"none\"/>\n",
       "    <path d=\"M18.56 5.44l.94 2.06.94-2.06 2.06-.94-2.06-.94-.94-2.06-.94 2.06-2.06.94zm-11 1L8.5 8.5l.94-2.06 2.06-.94-2.06-.94L8.5 2.5l-.94 2.06-2.06.94zm10 10l.94 2.06.94-2.06 2.06-.94-2.06-.94-.94-2.06-.94 2.06-2.06.94z\"/><path d=\"M17.41 7.96l-1.37-1.37c-.4-.4-.92-.59-1.43-.59-.52 0-1.04.2-1.43.59L10.3 9.45l-7.72 7.72c-.78.78-.78 2.05 0 2.83L4 21.41c.39.39.9.59 1.41.59.51 0 1.02-.2 1.41-.59l7.78-7.78 2.81-2.81c.8-.78.8-2.07 0-2.86zM5.41 20L4 18.59l7.72-7.72 1.47 1.35L5.41 20z\"/>\n",
       "  </svg>\n",
       "      </button>\n",
       "      \n",
       "  <style>\n",
       "    .colab-df-container {\n",
       "      display:flex;\n",
       "      flex-wrap:wrap;\n",
       "      gap: 12px;\n",
       "    }\n",
       "\n",
       "    .colab-df-convert {\n",
       "      background-color: #E8F0FE;\n",
       "      border: none;\n",
       "      border-radius: 50%;\n",
       "      cursor: pointer;\n",
       "      display: none;\n",
       "      fill: #1967D2;\n",
       "      height: 32px;\n",
       "      padding: 0 0 0 0;\n",
       "      width: 32px;\n",
       "    }\n",
       "\n",
       "    .colab-df-convert:hover {\n",
       "      background-color: #E2EBFA;\n",
       "      box-shadow: 0px 1px 2px rgba(60, 64, 67, 0.3), 0px 1px 3px 1px rgba(60, 64, 67, 0.15);\n",
       "      fill: #174EA6;\n",
       "    }\n",
       "\n",
       "    [theme=dark] .colab-df-convert {\n",
       "      background-color: #3B4455;\n",
       "      fill: #D2E3FC;\n",
       "    }\n",
       "\n",
       "    [theme=dark] .colab-df-convert:hover {\n",
       "      background-color: #434B5C;\n",
       "      box-shadow: 0px 1px 3px 1px rgba(0, 0, 0, 0.15);\n",
       "      filter: drop-shadow(0px 1px 2px rgba(0, 0, 0, 0.3));\n",
       "      fill: #FFFFFF;\n",
       "    }\n",
       "  </style>\n",
       "\n",
       "      <script>\n",
       "        const buttonEl =\n",
       "          document.querySelector('#df-c63acb2e-496c-4a06-bdb8-8bcbaeb43f3a button.colab-df-convert');\n",
       "        buttonEl.style.display =\n",
       "          google.colab.kernel.accessAllowed ? 'block' : 'none';\n",
       "\n",
       "        async function convertToInteractive(key) {\n",
       "          const element = document.querySelector('#df-c63acb2e-496c-4a06-bdb8-8bcbaeb43f3a');\n",
       "          const dataTable =\n",
       "            await google.colab.kernel.invokeFunction('convertToInteractive',\n",
       "                                                     [key], {});\n",
       "          if (!dataTable) return;\n",
       "\n",
       "          const docLinkHtml = 'Like what you see? Visit the ' +\n",
       "            '<a target=\"_blank\" href=https://colab.research.google.com/notebooks/data_table.ipynb>data table notebook</a>'\n",
       "            + ' to learn more about interactive tables.';\n",
       "          element.innerHTML = '';\n",
       "          dataTable['output_type'] = 'display_data';\n",
       "          await google.colab.output.renderOutput(dataTable, element);\n",
       "          const docLink = document.createElement('div');\n",
       "          docLink.innerHTML = docLinkHtml;\n",
       "          element.appendChild(docLink);\n",
       "        }\n",
       "      </script>\n",
       "    </div>\n",
       "  </div>\n",
       "  "
      ],
      "text/plain": [
       "       Date  num_bags  year  region\n",
       "0  12/27/15   8696.87  2015  Albany\n",
       "1  12/20/15   9505.56  2015  Albany\n",
       "2  12/13/15   8145.35  2015  Albany\n",
       "3   12/6/15   5811.16  2015  Albany\n",
       "4  11/29/15   6183.95  2015  Albany"
      ]
     },
     "execution_count": 3,
     "metadata": {},
     "output_type": "execute_result"
    }
   ],
   "source": [
    "### Do whatever you have to do to get that file from Moodle ###\n",
    "\n",
    "df_avocado_bags = pd.read_csv('avocado_bags.csv')\n",
    "print('Avocado bags data has %d rows and %d columns' % df_avocado_bags.shape)\n",
    "df_avocado_bags.head()"
   ]
  },
  {
   "cell_type": "markdown",
   "metadata": {
    "id": "ZuoIf-GCCpUQ"
   },
   "source": [
    "__Notice:__\n",
    "* To answer the following questions you will need to join the two datasets together properly and make calculations on columns from both `DataFrame`s.\n",
    "* Assume \"avocado market\" for a single date can be measured by price times number of bags (not a trick question).\n",
    "* Note each region has only one observation on each date, and we don't have missing values - so there are no weird/spooky/shady things hiding in the data. Yet."
   ]
  },
  {
   "cell_type": "markdown",
   "metadata": {
    "id": "pDDqzRrBCpUQ"
   },
   "source": [
    "### Q8.\n",
    "Which **of the following** regions has a larger avocado market? (in total, over the entire period)\n",
    "\n",
    "1. California\n",
    "\n",
    "2. NewYork\n",
    "\n",
    "3. Chicago\n",
    "\n",
    "4. LosAngeles"
   ]
  },
  {
   "cell_type": "code",
   "execution_count": null,
   "metadata": {
    "id": "HUsrTqqACpUR"
   },
   "outputs": [],
   "source": [
    "ans['Q8'] = #### your code here ####"
   ]
  },
  {
   "cell_type": "markdown",
   "metadata": {
    "id": "VwGOWaMHCpUU"
   },
   "source": [
    "### Q9.\n",
    "What year were avocado sales the highest? (in total, by avocado market, ignore that maybe data is missing for some years)\n",
    "\n",
    "1. 2015\n",
    "\n",
    "2. 2016\n",
    "\n",
    "3. 2017\n",
    "\n",
    "4. 2018"
   ]
  },
  {
   "cell_type": "code",
   "execution_count": null,
   "metadata": {
    "id": "qjXLGzEBCpUV"
   },
   "outputs": [],
   "source": [
    "ans['Q9'] = #### your code here ####"
   ]
  },
  {
   "cell_type": "markdown",
   "metadata": {},
   "source": [
    "### Q10.\n",
    "How many regions have a total avocado market above `15e06` in 2016?\n",
    "\n",
    "1. 1\n",
    "2. 11\n",
    "3. 14\n",
    "4. 26"
   ]
  },
  {
   "cell_type": "code",
   "execution_count": null,
   "metadata": {},
   "outputs": [],
   "source": [
    "ans['Q10'] = #### your code here ####"
   ]
  },
  {
   "cell_type": "markdown",
   "metadata": {},
   "source": [
    "### Q11.\n",
    "\n",
    "All regions have the same number of days reported in the year 2017 (challenge yourself to do this with as little code as possible)\n",
    "\n",
    "1. True\n",
    "2. False"
   ]
  },
  {
   "cell_type": "code",
   "execution_count": null,
   "metadata": {},
   "outputs": [],
   "source": [
    "ans['Q11'] = #### your code here ####"
   ]
  },
  {
   "cell_type": "markdown",
   "metadata": {
    "id": "idik6OLHCpUX"
   },
   "source": [
    "## Data Science Basics"
   ]
  },
  {
   "cell_type": "markdown",
   "metadata": {
    "id": "-8RTgFRcCpUY"
   },
   "source": [
    "The following questions reference material from the first lecture and should be answered after the lecture."
   ]
  },
  {
   "cell_type": "markdown",
   "metadata": {
    "id": "bvttmWV9CpUa"
   },
   "source": [
    "### Q12.\n",
    "Which of the following is not primarily a data science project: \n",
    "\n",
    "1.\tCollect and analyze data from a linear accelerator, looking for a new particle\n",
    "\n",
    "2.\tBuild a robot which serves cocktail drinks\n",
    "\n",
    "3.\tGiven two website designs, test which one attracts more traffic\n",
    "\n",
    "4.\tDo an online poll to predict the outcome of an election\n"
   ]
  },
  {
   "cell_type": "code",
   "execution_count": null,
   "metadata": {
    "id": "tBFrPNFgCpUb"
   },
   "outputs": [],
   "source": [
    "ans['Q12'] = #### your code here ####"
   ]
  },
  {
   "cell_type": "markdown",
   "metadata": {
    "id": "DCpS-IsJCpUd"
   },
   "source": [
    "We mentioned in class that data science has three interweaved components:\n",
    "* Computing expertise\n",
    "* Statistical expertise\n",
    "* Domain expertise (e.g. Physics)\n",
    "\n",
    "Consider the following tasks involved in a hypothetical data science project to find a new particle: \n",
    "\n",
    "1.\tDesigning the database to hold results\n",
    "\n",
    "2.\tDeciding which signals should be collected, and what kind of signals we are looking for to identify a new particle\n",
    "\n",
    "3.\tFitting regression models to the data and performing statistical tests in search of the signals\n",
    "\n",
    "4.  Recruiting the right personnel to carry out the project \n",
    "\n",
    "### Q13.\n",
    "Which one of the above most clearly belongs to the statistical expertise category?\n",
    "### Q14.\n",
    "Which one most clearly belongs to the computing expertise category?\n",
    "### Q15.\n",
    "Which one most clearly belongs to the domain expertise category?"
   ]
  },
  {
   "cell_type": "code",
   "execution_count": null,
   "metadata": {
    "id": "ddf86-2BCpUf"
   },
   "outputs": [],
   "source": [
    "ans['Q13'] = #### your code here ####\n",
    "ans['Q14'] = #### your code here ####\n",
    "ans['Q15'] = #### your code here ####"
   ]
  },
  {
   "cell_type": "markdown",
   "metadata": {
    "id": "exWkrREh7wMr"
   },
   "source": [
    "# Finish!"
   ]
  },
  {
   "cell_type": "markdown",
   "metadata": {
    "id": "HFZ4KRxx7wMs"
   },
   "source": [
    "* To submit your HW please run this last code block and follow the instructions.\n",
    "* This code will create a CSV file in the current directory on your local machine or in your google drive (Google Colab)\n",
    "* Please download it and upload it to the moodle HW1\n",
    "* Make sure that you write your ID correctly!"
   ]
  },
  {
   "cell_type": "code",
   "execution_count": null,
   "metadata": {},
   "outputs": [],
   "source": [
    "import pandas as pd\n",
    "\n",
    "df_ans = pd.DataFrame.from_dict(ans, orient='index')\n",
    "if df_ans.shape[0] == 18:\n",
    "  df_ans.to_csv('{}_{}.csv'.format(ans['HW'],str(ans['id_number'])))\n",
    "else:\n",
    "    print(\"seems like you missed a question, make sure you have run all the code blocks\")"
   ]
  },
  {
   "cell_type": "markdown",
   "metadata": {
    "id": "4Dr21V8PdKYq"
   },
   "source": [
    "**For Google Colab users who want to save their CSV in their drive**\n",
    "\n",
    "* Run the following script.\n",
    "* Note that you will need to authorize GD once. For more information: https://colab.research.google.com/notebooks/io.ipynb (under Mounting Google Drive locally)\n",
    "* You may change the path to be in your inner folder at GD, or not use GD at all and just manually download the CSV file to your local machine.\n",
    "* Eventually upload the CSV to Moodle."
   ]
  },
  {
   "cell_type": "code",
   "execution_count": null,
   "metadata": {
    "colab": {
     "base_uri": "https://localhost:8080/",
     "height": 34
    },
    "executionInfo": {
     "elapsed": 831,
     "status": "ok",
     "timestamp": 1584218897593,
     "user": {
      "displayName": "איתי מנס",
      "photoUrl": "",
      "userId": "09271931009263547573"
     },
     "user_tz": -120
    },
    "id": "ZGuDTZrsdQpS",
    "outputId": "2754df84-a16e-4cb3-970a-6acd0aaa8482"
   },
   "outputs": [],
   "source": [
    "from google.colab import drive\n",
    "drive.mount('/content/drive')\n",
    "\n",
    "# Three options of the path of the file \n",
    "path ='/content/drive/MyDrive/' # general outer folder\n",
    "# path = '/content/drive/MyDrive/Colab Notebooks/Intro_DS_2023/HW/HW2/' # assuming an inner folder called Intro_DS_2023 etc.\n",
    "# path = './' # here, in this notebook environment\n",
    "\n",
    "import pandas as pd \n",
    "df_ans = pd.DataFrame.from_dict(ans, orient='index')\n",
    "\n",
    "if df_ans.shape[0] == 18:\n",
    "  df_ans.to_csv(path+'{}_{}.csv'.format(ans['HW'],str(ans['id_number'])))\n",
    "else:\n",
    "    print(\"seems like you missed a question, make sure you have run all the code blocks\")\n"
   ]
  }
 ],
 "metadata": {
  "colab": {
   "provenance": []
  },
  "kernelspec": {
   "display_name": "Python 3",
   "language": "python",
   "name": "python3"
  },
  "language_info": {
   "codemirror_mode": {
    "name": "ipython",
    "version": 3
   },
   "file_extension": ".py",
   "mimetype": "text/x-python",
   "name": "python",
   "nbconvert_exporter": "python",
   "pygments_lexer": "ipython3",
   "version": "3.8.7"
  }
 },
 "nbformat": 4,
 "nbformat_minor": 1
}
                                                                                                                                                                                                                                                                                                                                                                                                                                                                                                                                                                                                                                                                                                                                                                                                                                                                                                                                                                                                                                                                                                                                                                                                                                                                                                                                                                                                                                                                                                                                                                                                               