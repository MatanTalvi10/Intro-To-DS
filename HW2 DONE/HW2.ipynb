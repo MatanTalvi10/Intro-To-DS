{
 "cells": [
  {
   "cell_type": "markdown",
   "metadata": {
    "id": "uKHgaMcjCpSw"
   },
   "source": [
    "# HW 2"
   ]
  },
  {
   "cell_type": "markdown",
   "metadata": {
    "id": "n2clz3-bCpSz"
   },
   "source": [
    "## Instructions\n",
    "\n",
    "* The course will be using an automatic grading system.\n",
    "* After each question there will appear a code block with some prepared code to add your answer to a dictionary that will be converted into a data frame, saved as CSV and uploaded to moodle for grading.\n",
    "* Please do not edit any code other than in placeholders marked `#### your code here ####`\n",
    "* Don't forget to run the code block after you write your answer.\n",
    "* You can add code blocks wherever you want in order to interact with datasets and play with your own code.\n",
    "* In the next code block please fill in your ID number and email account as strings in the appropriate places.\n",
    "* And don't forget to run the block!"
   ]
  },
  {
   "cell_type": "code",
   "execution_count": 133,
   "metadata": {
    "id": "u9EaHG06CpS1"
   },
   "outputs": [],
   "source": [
    "ans = {}\n",
    "ans['HW'] = 'HW2'\n",
    "ans['id_number'] = '318903028'\n",
    "ans['email'] = 'matantalvi@mail.tau.ac.il'"
   ]
  },
  {
   "cell_type": "markdown",
   "metadata": {
    "id": "9H-LTpDGifGV"
   },
   "source": [
    "## Avocado Data\n",
    "\n",
    "For this assignment you will need to import two csv files which can be found in moodle: `avocade_price.csv` which contains 2015-2018 daily price for avocado across the US, and `avocado_bags.csv` which contains 2015-2018 daily no. of avocado bags sold across the US."
   ]
  },
  {
   "cell_type": "markdown",
   "metadata": {
    "id": "XbIM_dc_CpTx"
   },
   "source": [
    "## Pandas"
   ]
  },
  {
   "cell_type": "markdown",
   "metadata": {
    "id": "SbPD2t_LCpTy"
   },
   "source": [
    "* In this section we will be interacting with a real dataset.\n",
    "* This next block loads the dataset from the repository.\n",
    "* Remember you are able to add code blocks to interact with the dataset.\n",
    "* If at any point you think that you might have altered the original data, you can simply rerun this code block to load a fresh copy.\n",
    "* Please do not change the blocks that record your answer to the `ans` dictionary.\n",
    "* The pandas documentation, and specifically the list of `DataFrame` methods might be helpful, [here](https://pandas.pydata.org/pandas-docs/stable/reference/frame.html)."
   ]
  },
  {
   "cell_type": "code",
   "execution_count": 134,
   "metadata": {
    "colab": {
     "base_uri": "https://localhost:8080/",
     "height": 206
    },
    "executionInfo": {
     "elapsed": 1351,
     "status": "ok",
     "timestamp": 1671196652101,
     "user": {
      "displayName": "Giora Simchoni",
      "userId": "07886879145318559495"
     },
     "user_tz": -120
    },
    "id": "VaCob2_CCpT0",
    "outputId": "860a4159-74e5-4033-cba6-20872f52660c"
   },
   "outputs": [
    {
     "name": "stdout",
     "output_type": "stream",
     "text": [
      "Avocado prices data has 9126 rows and 4 columns\n"
     ]
    },
    {
     "data": {
      "text/html": [
       "<div>\n",
       "<style scoped>\n",
       "    .dataframe tbody tr th:only-of-type {\n",
       "        vertical-align: middle;\n",
       "    }\n",
       "\n",
       "    .dataframe tbody tr th {\n",
       "        vertical-align: top;\n",
       "    }\n",
       "\n",
       "    .dataframe thead th {\n",
       "        text-align: right;\n",
       "    }\n",
       "</style>\n",
       "<table border=\"1\" class=\"dataframe\">\n",
       "  <thead>\n",
       "    <tr style=\"text-align: right;\">\n",
       "      <th></th>\n",
       "      <th>Date</th>\n",
       "      <th>price</th>\n",
       "      <th>year</th>\n",
       "      <th>region</th>\n",
       "    </tr>\n",
       "  </thead>\n",
       "  <tbody>\n",
       "    <tr>\n",
       "      <th>0</th>\n",
       "      <td>12/27/15</td>\n",
       "      <td>1.33</td>\n",
       "      <td>2015</td>\n",
       "      <td>Albany</td>\n",
       "    </tr>\n",
       "    <tr>\n",
       "      <th>1</th>\n",
       "      <td>12/20/15</td>\n",
       "      <td>1.35</td>\n",
       "      <td>2015</td>\n",
       "      <td>Albany</td>\n",
       "    </tr>\n",
       "    <tr>\n",
       "      <th>2</th>\n",
       "      <td>12/13/15</td>\n",
       "      <td>0.93</td>\n",
       "      <td>2015</td>\n",
       "      <td>Albany</td>\n",
       "    </tr>\n",
       "    <tr>\n",
       "      <th>3</th>\n",
       "      <td>12/6/15</td>\n",
       "      <td>1.08</td>\n",
       "      <td>2015</td>\n",
       "      <td>Albany</td>\n",
       "    </tr>\n",
       "    <tr>\n",
       "      <th>4</th>\n",
       "      <td>11/29/15</td>\n",
       "      <td>1.28</td>\n",
       "      <td>2015</td>\n",
       "      <td>Albany</td>\n",
       "    </tr>\n",
       "  </tbody>\n",
       "</table>\n",
       "</div>"
      ],
      "text/plain": [
       "       Date  price  year  region\n",
       "0  12/27/15   1.33  2015  Albany\n",
       "1  12/20/15   1.35  2015  Albany\n",
       "2  12/13/15   0.93  2015  Albany\n",
       "3   12/6/15   1.08  2015  Albany\n",
       "4  11/29/15   1.28  2015  Albany"
      ]
     },
     "execution_count": 134,
     "metadata": {},
     "output_type": "execute_result"
    }
   ],
   "source": [
    "import pandas as pd\n",
    "\n",
    "# This assumes you have avocado_fixed.csv in the notebook folder\n",
    "# If you're working with a folder in Gooogle Drive and want to read from it - \n",
    "# Mount the drive, either by pressing the mount drive button or by running:\n",
    "# from google.colab import drive\n",
    "# drive.mount('/content/drive')\n",
    "# then, reading the csv from the relevant `path` with\n",
    "# df_avocado = pd.read_csv(path + 'avocado_fixed.csv')\n",
    "\n",
    "df_avocado = pd.read_csv('avocado_price.csv')\n",
    "print('Avocado prices data has %d rows and %d columns' % df_avocado.shape)\n",
    "df_avocado.head()"
   ]
  },
  {
   "cell_type": "markdown",
   "metadata": {
    "id": "M4uJ-2t1ps3m"
   },
   "source": [
    "### Q1.\n",
    "What is the median of the `year` column?\n",
    "\n",
    "1. 2015\n",
    "\n",
    "2. 2016\n",
    "\n",
    "3. 2017\n",
    "\n",
    "4. 2018"
   ]
  },
  {
   "cell_type": "code",
   "execution_count": 135,
   "metadata": {},
   "outputs": [
    {
     "data": {
      "text/plain": [
       "2016.0"
      ]
     },
     "execution_count": 135,
     "metadata": {},
     "output_type": "execute_result"
    }
   ],
   "source": [
    "x = df_avocado['year'].median()\n",
    "x"
   ]
  },
  {
   "cell_type": "code",
   "execution_count": 136,
   "metadata": {
    "id": "2tQjoxQCptPX"
   },
   "outputs": [],
   "source": [
    "ans['Q1'] = 2"
   ]
  },
  {
   "cell_type": "markdown",
   "metadata": {
    "id": "zgYeHmIzCpT4"
   },
   "source": [
    "### Q2.\n",
    "On what date and region was the price the highest?\n",
    "\n",
    "1. PhoenixTucson - 2/5/17\n",
    "\n",
    "2. Chicago - 10/8/17\n",
    "\n",
    "3. SanFrancisco - 10/30/16\n",
    "\n",
    "4. LosAngeles 2/5/17\n",
    "\n",
    "__Hint:__ the pandas data frame method `sort_values()` can come in handy, look it up in the pandas documentation."
   ]
  },
  {
   "cell_type": "code",
   "execution_count": 137,
   "metadata": {},
   "outputs": [
    {
     "data": {
      "text/html": [
       "<div>\n",
       "<style scoped>\n",
       "    .dataframe tbody tr th:only-of-type {\n",
       "        vertical-align: middle;\n",
       "    }\n",
       "\n",
       "    .dataframe tbody tr th {\n",
       "        vertical-align: top;\n",
       "    }\n",
       "\n",
       "    .dataframe thead th {\n",
       "        text-align: right;\n",
       "    }\n",
       "</style>\n",
       "<table border=\"1\" class=\"dataframe\">\n",
       "  <thead>\n",
       "    <tr style=\"text-align: right;\">\n",
       "      <th></th>\n",
       "      <th>Date</th>\n",
       "      <th>price</th>\n",
       "      <th>year</th>\n",
       "      <th>region</th>\n",
       "    </tr>\n",
       "  </thead>\n",
       "  <tbody>\n",
       "    <tr>\n",
       "      <th>7412</th>\n",
       "      <td>2/5/17</td>\n",
       "      <td>0.46</td>\n",
       "      <td>2017</td>\n",
       "      <td>PhoenixTucson</td>\n",
       "    </tr>\n",
       "    <tr>\n",
       "      <th>1716</th>\n",
       "      <td>12/27/15</td>\n",
       "      <td>0.49</td>\n",
       "      <td>2015</td>\n",
       "      <td>PhoenixTucson</td>\n",
       "    </tr>\n",
       "    <tr>\n",
       "      <th>6622</th>\n",
       "      <td>1/1/17</td>\n",
       "      <td>0.51</td>\n",
       "      <td>2017</td>\n",
       "      <td>Houston</td>\n",
       "    </tr>\n",
       "    <tr>\n",
       "      <th>1752</th>\n",
       "      <td>4/19/15</td>\n",
       "      <td>0.51</td>\n",
       "      <td>2015</td>\n",
       "      <td>PhoenixTucson</td>\n",
       "    </tr>\n",
       "    <tr>\n",
       "      <th>4566</th>\n",
       "      <td>3/6/16</td>\n",
       "      <td>0.51</td>\n",
       "      <td>2016</td>\n",
       "      <td>PhoenixTucson</td>\n",
       "    </tr>\n",
       "    <tr>\n",
       "      <th>...</th>\n",
       "      <td>...</td>\n",
       "      <td>...</td>\n",
       "      <td>...</td>\n",
       "      <td>...</td>\n",
       "    </tr>\n",
       "    <tr>\n",
       "      <th>6053</th>\n",
       "      <td>10/1/17</td>\n",
       "      <td>2.14</td>\n",
       "      <td>2017</td>\n",
       "      <td>Chicago</td>\n",
       "    </tr>\n",
       "    <tr>\n",
       "      <th>6055</th>\n",
       "      <td>9/17/17</td>\n",
       "      <td>2.15</td>\n",
       "      <td>2017</td>\n",
       "      <td>Chicago</td>\n",
       "    </tr>\n",
       "    <tr>\n",
       "      <th>6370</th>\n",
       "      <td>10/8/17</td>\n",
       "      <td>2.19</td>\n",
       "      <td>2017</td>\n",
       "      <td>GrandRapids</td>\n",
       "    </tr>\n",
       "    <tr>\n",
       "      <th>5000</th>\n",
       "      <td>10/30/16</td>\n",
       "      <td>2.20</td>\n",
       "      <td>2016</td>\n",
       "      <td>SanFrancisco</td>\n",
       "    </tr>\n",
       "    <tr>\n",
       "      <th>6052</th>\n",
       "      <td>10/8/17</td>\n",
       "      <td>2.22</td>\n",
       "      <td>2017</td>\n",
       "      <td>Chicago</td>\n",
       "    </tr>\n",
       "  </tbody>\n",
       "</table>\n",
       "<p>9126 rows × 4 columns</p>\n",
       "</div>"
      ],
      "text/plain": [
       "          Date  price  year         region\n",
       "7412    2/5/17   0.46  2017  PhoenixTucson\n",
       "1716  12/27/15   0.49  2015  PhoenixTucson\n",
       "6622    1/1/17   0.51  2017        Houston\n",
       "1752   4/19/15   0.51  2015  PhoenixTucson\n",
       "4566    3/6/16   0.51  2016  PhoenixTucson\n",
       "...        ...    ...   ...            ...\n",
       "6053   10/1/17   2.14  2017        Chicago\n",
       "6055   9/17/17   2.15  2017        Chicago\n",
       "6370   10/8/17   2.19  2017    GrandRapids\n",
       "5000  10/30/16   2.20  2016   SanFrancisco\n",
       "6052   10/8/17   2.22  2017        Chicago\n",
       "\n",
       "[9126 rows x 4 columns]"
      ]
     },
     "execution_count": 137,
     "metadata": {},
     "output_type": "execute_result"
    }
   ],
   "source": [
    "max_price = df_avocado['price'].max()\n",
    "df_avocado.sort_values('price')"
   ]
  },
  {
   "cell_type": "code",
   "execution_count": 138,
   "metadata": {
    "id": "xgx3XQKfCpT5"
   },
   "outputs": [],
   "source": [
    "ans['Q2'] = 2"
   ]
  },
  {
   "cell_type": "markdown",
   "metadata": {},
   "source": [
    "### Q3.\n",
    "How many days are there in the data for the `SanFrancisco` region, in the year 2018?\n",
    "\n",
    "1. 5\n",
    "2. 12\n",
    "3. 13\n",
    "4. 53"
   ]
  },
  {
   "cell_type": "code",
   "execution_count": 139,
   "metadata": {},
   "outputs": [
    {
     "data": {
      "text/plain": [
       "Date      12\n",
       "price     12\n",
       "year      12\n",
       "region    12\n",
       "dtype: int64"
      ]
     },
     "execution_count": 139,
     "metadata": {},
     "output_type": "execute_result"
    }
   ],
   "source": [
    "#forestfires.loc[(forestfires['month'].isin(['mar', 'oct'])) & (forestfires['X'] > 7)]\n",
    "df_avocado.loc[(df_avocado['region'] == 'SanFrancisco') & (df_avocado['year'] == 2018)].count()"
   ]
  },
  {
   "cell_type": "code",
   "execution_count": 140,
   "metadata": {},
   "outputs": [],
   "source": [
    "ans['Q3'] = 2"
   ]
  },
  {
   "cell_type": "markdown",
   "metadata": {
    "id": "90D109gCCpT-"
   },
   "source": [
    "### Q4.\n",
    "Which region had the lowest price for the entire period? (on average)\n",
    "\n",
    "1. Albany\n",
    "\n",
    "2. HartfordSpringfield\n",
    "\n",
    "3. Houston\n",
    "\n",
    "4. PhoenixTucson"
   ]
  },
  {
   "cell_type": "markdown",
   "metadata": {
    "id": "gN6l_w-_pIlg"
   },
   "source": [
    "__Hint:__ `groupby` and `agg`."
   ]
  },
  {
   "cell_type": "code",
   "execution_count": 141,
   "metadata": {},
   "outputs": [
    {
     "data": {
      "text/html": [
       "<div>\n",
       "<style scoped>\n",
       "    .dataframe tbody tr th:only-of-type {\n",
       "        vertical-align: middle;\n",
       "    }\n",
       "\n",
       "    .dataframe tbody tr th {\n",
       "        vertical-align: top;\n",
       "    }\n",
       "\n",
       "    .dataframe thead th {\n",
       "        text-align: right;\n",
       "    }\n",
       "</style>\n",
       "<table border=\"1\" class=\"dataframe\">\n",
       "  <thead>\n",
       "    <tr style=\"text-align: right;\">\n",
       "      <th></th>\n",
       "      <th>price</th>\n",
       "    </tr>\n",
       "    <tr>\n",
       "      <th>region</th>\n",
       "      <th></th>\n",
       "    </tr>\n",
       "  </thead>\n",
       "  <tbody>\n",
       "    <tr>\n",
       "      <th>PhoenixTucson</th>\n",
       "      <td>0.728225</td>\n",
       "    </tr>\n",
       "    <tr>\n",
       "      <th>Houston</th>\n",
       "      <td>0.825089</td>\n",
       "    </tr>\n",
       "    <tr>\n",
       "      <th>WestTexNewMexico</th>\n",
       "      <td>0.842130</td>\n",
       "    </tr>\n",
       "    <tr>\n",
       "      <th>DallasFtWorth</th>\n",
       "      <td>0.846450</td>\n",
       "    </tr>\n",
       "    <tr>\n",
       "      <th>SouthCentral</th>\n",
       "      <td>0.869408</td>\n",
       "    </tr>\n",
       "    <tr>\n",
       "      <th>LosAngeles</th>\n",
       "      <td>0.976450</td>\n",
       "    </tr>\n",
       "    <tr>\n",
       "      <th>West</th>\n",
       "      <td>0.985089</td>\n",
       "    </tr>\n",
       "    <tr>\n",
       "      <th>Nashville</th>\n",
       "      <td>1.012899</td>\n",
       "    </tr>\n",
       "    <tr>\n",
       "      <th>LasVegas</th>\n",
       "      <td>1.012959</td>\n",
       "    </tr>\n",
       "    <tr>\n",
       "      <th>CincinnatiDayton</th>\n",
       "      <td>1.015503</td>\n",
       "    </tr>\n",
       "    <tr>\n",
       "      <th>Portland</th>\n",
       "      <td>1.046509</td>\n",
       "    </tr>\n",
       "    <tr>\n",
       "      <th>SanDiego</th>\n",
       "      <td>1.061479</td>\n",
       "    </tr>\n",
       "    <tr>\n",
       "      <th>Columbus</th>\n",
       "      <td>1.066272</td>\n",
       "    </tr>\n",
       "    <tr>\n",
       "      <th>Atlanta</th>\n",
       "      <td>1.068817</td>\n",
       "    </tr>\n",
       "    <tr>\n",
       "      <th>Denver</th>\n",
       "      <td>1.073964</td>\n",
       "    </tr>\n",
       "    <tr>\n",
       "      <th>Boise</th>\n",
       "      <td>1.076036</td>\n",
       "    </tr>\n",
       "    <tr>\n",
       "      <th>NewOrleansMobile</th>\n",
       "      <td>1.085266</td>\n",
       "    </tr>\n",
       "    <tr>\n",
       "      <th>TotalUS</th>\n",
       "      <td>1.092012</td>\n",
       "    </tr>\n",
       "    <tr>\n",
       "      <th>Roanoke</th>\n",
       "      <td>1.096036</td>\n",
       "    </tr>\n",
       "    <tr>\n",
       "      <th>Louisville</th>\n",
       "      <td>1.105325</td>\n",
       "    </tr>\n",
       "    <tr>\n",
       "      <th>California</th>\n",
       "      <td>1.105444</td>\n",
       "    </tr>\n",
       "    <tr>\n",
       "      <th>Spokane</th>\n",
       "      <td>1.115976</td>\n",
       "    </tr>\n",
       "    <tr>\n",
       "      <th>RichmondNorfolk</th>\n",
       "      <td>1.119822</td>\n",
       "    </tr>\n",
       "    <tr>\n",
       "      <th>Detroit</th>\n",
       "      <td>1.123964</td>\n",
       "    </tr>\n",
       "    <tr>\n",
       "      <th>Indianapolis</th>\n",
       "      <td>1.144852</td>\n",
       "    </tr>\n",
       "    <tr>\n",
       "      <th>SouthCarolina</th>\n",
       "      <td>1.146213</td>\n",
       "    </tr>\n",
       "    <tr>\n",
       "      <th>Southeast</th>\n",
       "      <td>1.163018</td>\n",
       "    </tr>\n",
       "    <tr>\n",
       "      <th>Plains</th>\n",
       "      <td>1.165503</td>\n",
       "    </tr>\n",
       "    <tr>\n",
       "      <th>Seattle</th>\n",
       "      <td>1.169763</td>\n",
       "    </tr>\n",
       "    <tr>\n",
       "      <th>GreatLakes</th>\n",
       "      <td>1.181893</td>\n",
       "    </tr>\n",
       "    <tr>\n",
       "      <th>StLouis</th>\n",
       "      <td>1.185740</td>\n",
       "    </tr>\n",
       "    <tr>\n",
       "      <th>Jacksonville</th>\n",
       "      <td>1.193609</td>\n",
       "    </tr>\n",
       "    <tr>\n",
       "      <th>Tampa</th>\n",
       "      <td>1.201598</td>\n",
       "    </tr>\n",
       "    <tr>\n",
       "      <th>Midsouth</th>\n",
       "      <td>1.207160</td>\n",
       "    </tr>\n",
       "    <tr>\n",
       "      <th>Orlando</th>\n",
       "      <td>1.214438</td>\n",
       "    </tr>\n",
       "    <tr>\n",
       "      <th>RaleighGreensboro</th>\n",
       "      <td>1.227101</td>\n",
       "    </tr>\n",
       "    <tr>\n",
       "      <th>Pittsburgh</th>\n",
       "      <td>1.250651</td>\n",
       "    </tr>\n",
       "    <tr>\n",
       "      <th>MiamiFtLauderdale</th>\n",
       "      <td>1.254320</td>\n",
       "    </tr>\n",
       "    <tr>\n",
       "      <th>HarrisburgScranton</th>\n",
       "      <td>1.258817</td>\n",
       "    </tr>\n",
       "    <tr>\n",
       "      <th>NorthernNewEngland</th>\n",
       "      <td>1.260237</td>\n",
       "    </tr>\n",
       "    <tr>\n",
       "      <th>Sacramento</th>\n",
       "      <td>1.273964</td>\n",
       "    </tr>\n",
       "    <tr>\n",
       "      <th>Charlotte</th>\n",
       "      <td>1.275089</td>\n",
       "    </tr>\n",
       "    <tr>\n",
       "      <th>Boston</th>\n",
       "      <td>1.304379</td>\n",
       "    </tr>\n",
       "    <tr>\n",
       "      <th>GrandRapids</th>\n",
       "      <td>1.325030</td>\n",
       "    </tr>\n",
       "    <tr>\n",
       "      <th>BaltimoreWashington</th>\n",
       "      <td>1.344201</td>\n",
       "    </tr>\n",
       "    <tr>\n",
       "      <th>Northeast</th>\n",
       "      <td>1.344438</td>\n",
       "    </tr>\n",
       "    <tr>\n",
       "      <th>Albany</th>\n",
       "      <td>1.348757</td>\n",
       "    </tr>\n",
       "    <tr>\n",
       "      <th>Chicago</th>\n",
       "      <td>1.369349</td>\n",
       "    </tr>\n",
       "    <tr>\n",
       "      <th>BuffaloRochester</th>\n",
       "      <td>1.382308</td>\n",
       "    </tr>\n",
       "    <tr>\n",
       "      <th>Syracuse</th>\n",
       "      <td>1.386923</td>\n",
       "    </tr>\n",
       "    <tr>\n",
       "      <th>Philadelphia</th>\n",
       "      <td>1.396331</td>\n",
       "    </tr>\n",
       "    <tr>\n",
       "      <th>SanFrancisco</th>\n",
       "      <td>1.397160</td>\n",
       "    </tr>\n",
       "    <tr>\n",
       "      <th>NewYork</th>\n",
       "      <td>1.402130</td>\n",
       "    </tr>\n",
       "    <tr>\n",
       "      <th>HartfordSpringfield</th>\n",
       "      <td>1.408047</td>\n",
       "    </tr>\n",
       "  </tbody>\n",
       "</table>\n",
       "</div>"
      ],
      "text/plain": [
       "                        price\n",
       "region                       \n",
       "PhoenixTucson        0.728225\n",
       "Houston              0.825089\n",
       "WestTexNewMexico     0.842130\n",
       "DallasFtWorth        0.846450\n",
       "SouthCentral         0.869408\n",
       "LosAngeles           0.976450\n",
       "West                 0.985089\n",
       "Nashville            1.012899\n",
       "LasVegas             1.012959\n",
       "CincinnatiDayton     1.015503\n",
       "Portland             1.046509\n",
       "SanDiego             1.061479\n",
       "Columbus             1.066272\n",
       "Atlanta              1.068817\n",
       "Denver               1.073964\n",
       "Boise                1.076036\n",
       "NewOrleansMobile     1.085266\n",
       "TotalUS              1.092012\n",
       "Roanoke              1.096036\n",
       "Louisville           1.105325\n",
       "California           1.105444\n",
       "Spokane              1.115976\n",
       "RichmondNorfolk      1.119822\n",
       "Detroit              1.123964\n",
       "Indianapolis         1.144852\n",
       "SouthCarolina        1.146213\n",
       "Southeast            1.163018\n",
       "Plains               1.165503\n",
       "Seattle              1.169763\n",
       "GreatLakes           1.181893\n",
       "StLouis              1.185740\n",
       "Jacksonville         1.193609\n",
       "Tampa                1.201598\n",
       "Midsouth             1.207160\n",
       "Orlando              1.214438\n",
       "RaleighGreensboro    1.227101\n",
       "Pittsburgh           1.250651\n",
       "MiamiFtLauderdale    1.254320\n",
       "HarrisburgScranton   1.258817\n",
       "NorthernNewEngland   1.260237\n",
       "Sacramento           1.273964\n",
       "Charlotte            1.275089\n",
       "Boston               1.304379\n",
       "GrandRapids          1.325030\n",
       "BaltimoreWashington  1.344201\n",
       "Northeast            1.344438\n",
       "Albany               1.348757\n",
       "Chicago              1.369349\n",
       "BuffaloRochester     1.382308\n",
       "Syracuse             1.386923\n",
       "Philadelphia         1.396331\n",
       "SanFrancisco         1.397160\n",
       "NewYork              1.402130\n",
       "HartfordSpringfield  1.408047"
      ]
     },
     "execution_count": 141,
     "metadata": {},
     "output_type": "execute_result"
    }
   ],
   "source": [
    "df_avocado.groupby('region').agg({'price':'mean'}).sort_values('price')"
   ]
  },
  {
   "cell_type": "code",
   "execution_count": 142,
   "metadata": {
    "id": "j2Gsb4RJCpUA"
   },
   "outputs": [],
   "source": [
    "ans['Q4'] = 4"
   ]
  },
  {
   "cell_type": "markdown",
   "metadata": {
    "id": "PMYSpEetCpUD"
   },
   "source": [
    "### Q5.\n",
    "In what year were avocado prices the lowest? (on average)\n",
    "\n",
    "1. 2015\n",
    "\n",
    "2. 2016\n",
    "\n",
    "3. 2017\n",
    "\n",
    "4. 2018"
   ]
  },
  {
   "cell_type": "code",
   "execution_count": 143,
   "metadata": {},
   "outputs": [
    {
     "data": {
      "text/html": [
       "<div>\n",
       "<style scoped>\n",
       "    .dataframe tbody tr th:only-of-type {\n",
       "        vertical-align: middle;\n",
       "    }\n",
       "\n",
       "    .dataframe tbody tr th {\n",
       "        vertical-align: top;\n",
       "    }\n",
       "\n",
       "    .dataframe thead th {\n",
       "        text-align: right;\n",
       "    }\n",
       "</style>\n",
       "<table border=\"1\" class=\"dataframe\">\n",
       "  <thead>\n",
       "    <tr style=\"text-align: right;\">\n",
       "      <th></th>\n",
       "      <th>price</th>\n",
       "    </tr>\n",
       "    <tr>\n",
       "      <th>year</th>\n",
       "      <th></th>\n",
       "    </tr>\n",
       "  </thead>\n",
       "  <tbody>\n",
       "    <tr>\n",
       "      <th>2015</th>\n",
       "      <td>1.077963</td>\n",
       "    </tr>\n",
       "    <tr>\n",
       "      <th>2016</th>\n",
       "      <td>1.105595</td>\n",
       "    </tr>\n",
       "    <tr>\n",
       "      <th>2018</th>\n",
       "      <td>1.127886</td>\n",
       "    </tr>\n",
       "    <tr>\n",
       "      <th>2017</th>\n",
       "      <td>1.294888</td>\n",
       "    </tr>\n",
       "  </tbody>\n",
       "</table>\n",
       "</div>"
      ],
      "text/plain": [
       "         price\n",
       "year          \n",
       "2015  1.077963\n",
       "2016  1.105595\n",
       "2018  1.127886\n",
       "2017  1.294888"
      ]
     },
     "execution_count": 143,
     "metadata": {},
     "output_type": "execute_result"
    }
   ],
   "source": [
    "df_avocado.groupby('year').agg({'price':'mean'}).sort_values('price')"
   ]
  },
  {
   "cell_type": "code",
   "execution_count": 144,
   "metadata": {
    "id": "grEkpIDiCpUE"
   },
   "outputs": [],
   "source": [
    "ans['Q5'] = 1"
   ]
  },
  {
   "cell_type": "markdown",
   "metadata": {
    "id": "l8NXhMzHCpUH"
   },
   "source": [
    "### Q6.\n",
    "In what year were the prices lowest in Indianapolis? (on average)\n",
    "\n",
    "1. 2015\n",
    "\n",
    "2. 2016\n",
    "\n",
    "3. 2017\n",
    "\n",
    "4. 2018"
   ]
  },
  {
   "cell_type": "code",
   "execution_count": 145,
   "metadata": {},
   "outputs": [
    {
     "data": {
      "text/html": [
       "<div>\n",
       "<style scoped>\n",
       "    .dataframe tbody tr th:only-of-type {\n",
       "        vertical-align: middle;\n",
       "    }\n",
       "\n",
       "    .dataframe tbody tr th {\n",
       "        vertical-align: top;\n",
       "    }\n",
       "\n",
       "    .dataframe thead th {\n",
       "        text-align: right;\n",
       "    }\n",
       "</style>\n",
       "<table border=\"1\" class=\"dataframe\">\n",
       "  <thead>\n",
       "    <tr style=\"text-align: right;\">\n",
       "      <th></th>\n",
       "      <th>price</th>\n",
       "    </tr>\n",
       "    <tr>\n",
       "      <th>year</th>\n",
       "      <th></th>\n",
       "    </tr>\n",
       "  </thead>\n",
       "  <tbody>\n",
       "    <tr>\n",
       "      <th>2018</th>\n",
       "      <td>0.985000</td>\n",
       "    </tr>\n",
       "    <tr>\n",
       "      <th>2015</th>\n",
       "      <td>1.104615</td>\n",
       "    </tr>\n",
       "    <tr>\n",
       "      <th>2016</th>\n",
       "      <td>1.118077</td>\n",
       "    </tr>\n",
       "    <tr>\n",
       "      <th>2017</th>\n",
       "      <td>1.246792</td>\n",
       "    </tr>\n",
       "  </tbody>\n",
       "</table>\n",
       "</div>"
      ],
      "text/plain": [
       "         price\n",
       "year          \n",
       "2018  0.985000\n",
       "2015  1.104615\n",
       "2016  1.118077\n",
       "2017  1.246792"
      ]
     },
     "execution_count": 145,
     "metadata": {},
     "output_type": "execute_result"
    }
   ],
   "source": [
    "df_avocado.loc[(df_avocado['region'] == 'Indianapolis')].groupby('year').agg({'price':'mean'}).sort_values('price')"
   ]
  },
  {
   "cell_type": "code",
   "execution_count": 146,
   "metadata": {
    "id": "wf1uZsvhCpUI"
   },
   "outputs": [],
   "source": [
    "ans['Q6'] = 4"
   ]
  },
  {
   "cell_type": "markdown",
   "metadata": {
    "id": "1ppIpuoutZtv"
   },
   "source": [
    "### Q7.\n",
    "What is the median price in the Columbus region in 2017?\n",
    "\n",
    "1. 1.015\n",
    "\n",
    "2. 1.030\n",
    "\n",
    "3. 1.100\n",
    "\n",
    "4. 1.163"
   ]
  },
  {
   "cell_type": "code",
   "execution_count": 147,
   "metadata": {},
   "outputs": [
    {
     "data": {
      "text/plain": [
       "1.1"
      ]
     },
     "execution_count": 147,
     "metadata": {},
     "output_type": "execute_result"
    }
   ],
   "source": [
    "df_avocado.loc[(df_avocado['region'] == 'Columbus') & (df_avocado['year'] == 2017)]['price'].median()"
   ]
  },
  {
   "cell_type": "code",
   "execution_count": 148,
   "metadata": {
    "id": "DLje56lMupTA"
   },
   "outputs": [],
   "source": [
    "ans['Q7'] = 3"
   ]
  },
  {
   "cell_type": "markdown",
   "metadata": {
    "id": "PZo1X7JvCpUM"
   },
   "source": [
    "---\n",
    "\n",
    "We will now load some additional data to play with. The new data set holds number of avocado bags sold in each region for the same period."
   ]
  },
  {
   "cell_type": "code",
   "execution_count": 149,
   "metadata": {
    "colab": {
     "base_uri": "https://localhost:8080/",
     "height": 206
    },
    "executionInfo": {
     "elapsed": 437,
     "status": "ok",
     "timestamp": 1671197257069,
     "user": {
      "displayName": "Giora Simchoni",
      "userId": "07886879145318559495"
     },
     "user_tz": -120
    },
    "id": "-aDTL74KsKEG",
    "outputId": "c6d5b264-7f86-47b9-b0ef-a793d511ae7b"
   },
   "outputs": [
    {
     "name": "stdout",
     "output_type": "stream",
     "text": [
      "Avocado bags data has 9126 rows and 4 columns\n"
     ]
    },
    {
     "data": {
      "text/html": [
       "<div>\n",
       "<style scoped>\n",
       "    .dataframe tbody tr th:only-of-type {\n",
       "        vertical-align: middle;\n",
       "    }\n",
       "\n",
       "    .dataframe tbody tr th {\n",
       "        vertical-align: top;\n",
       "    }\n",
       "\n",
       "    .dataframe thead th {\n",
       "        text-align: right;\n",
       "    }\n",
       "</style>\n",
       "<table border=\"1\" class=\"dataframe\">\n",
       "  <thead>\n",
       "    <tr style=\"text-align: right;\">\n",
       "      <th></th>\n",
       "      <th>Date</th>\n",
       "      <th>num_bags</th>\n",
       "      <th>year</th>\n",
       "      <th>region</th>\n",
       "    </tr>\n",
       "  </thead>\n",
       "  <tbody>\n",
       "    <tr>\n",
       "      <th>0</th>\n",
       "      <td>12/27/15</td>\n",
       "      <td>8696.87</td>\n",
       "      <td>2015</td>\n",
       "      <td>Albany</td>\n",
       "    </tr>\n",
       "    <tr>\n",
       "      <th>1</th>\n",
       "      <td>12/20/15</td>\n",
       "      <td>9505.56</td>\n",
       "      <td>2015</td>\n",
       "      <td>Albany</td>\n",
       "    </tr>\n",
       "    <tr>\n",
       "      <th>2</th>\n",
       "      <td>12/13/15</td>\n",
       "      <td>8145.35</td>\n",
       "      <td>2015</td>\n",
       "      <td>Albany</td>\n",
       "    </tr>\n",
       "    <tr>\n",
       "      <th>3</th>\n",
       "      <td>12/6/15</td>\n",
       "      <td>5811.16</td>\n",
       "      <td>2015</td>\n",
       "      <td>Albany</td>\n",
       "    </tr>\n",
       "    <tr>\n",
       "      <th>4</th>\n",
       "      <td>11/29/15</td>\n",
       "      <td>6183.95</td>\n",
       "      <td>2015</td>\n",
       "      <td>Albany</td>\n",
       "    </tr>\n",
       "  </tbody>\n",
       "</table>\n",
       "</div>"
      ],
      "text/plain": [
       "       Date  num_bags  year  region\n",
       "0  12/27/15   8696.87  2015  Albany\n",
       "1  12/20/15   9505.56  2015  Albany\n",
       "2  12/13/15   8145.35  2015  Albany\n",
       "3   12/6/15   5811.16  2015  Albany\n",
       "4  11/29/15   6183.95  2015  Albany"
      ]
     },
     "execution_count": 149,
     "metadata": {},
     "output_type": "execute_result"
    }
   ],
   "source": [
    "### Do whatever you have to do to get that file from Moodle ###\n",
    "\n",
    "df_avocado_bags = pd.read_csv('avocado_bags.csv')\n",
    "print('Avocado bags data has %d rows and %d columns' % df_avocado_bags.shape)\n",
    "df_avocado_bags.head()"
   ]
  },
  {
   "cell_type": "markdown",
   "metadata": {
    "id": "ZuoIf-GCCpUQ"
   },
   "source": [
    "__Notice:__\n",
    "* To answer the following questions you will need to join the two datasets together properly and make calculations on columns from both `DataFrame`s.\n",
    "* Assume \"avocado market\" for a single date can be measured by price times number of bags (not a trick question).\n",
    "* Note each region has only one observation on each date, and we don't have missing values - so there are no weird/spooky/shady things hiding in the data. Yet."
   ]
  },
  {
   "cell_type": "markdown",
   "metadata": {
    "id": "pDDqzRrBCpUQ"
   },
   "source": [
    "### Q8.\n",
    "Which **of the following** regions has a larger avocado market? (in total, over the entire period)\n",
    "\n",
    "1. California\n",
    "\n",
    "2. NewYork\n",
    "\n",
    "3. Chicago\n",
    "\n",
    "4. LosAngeles"
   ]
  },
  {
   "cell_type": "code",
   "execution_count": 150,
   "metadata": {},
   "outputs": [
    {
     "data": {
      "text/html": [
       "<div>\n",
       "<style scoped>\n",
       "    .dataframe tbody tr th:only-of-type {\n",
       "        vertical-align: middle;\n",
       "    }\n",
       "\n",
       "    .dataframe tbody tr th {\n",
       "        vertical-align: top;\n",
       "    }\n",
       "\n",
       "    .dataframe thead th {\n",
       "        text-align: right;\n",
       "    }\n",
       "</style>\n",
       "<table border=\"1\" class=\"dataframe\">\n",
       "  <thead>\n",
       "    <tr style=\"text-align: right;\">\n",
       "      <th></th>\n",
       "      <th>avocado market</th>\n",
       "    </tr>\n",
       "    <tr>\n",
       "      <th>region</th>\n",
       "      <th></th>\n",
       "    </tr>\n",
       "  </thead>\n",
       "  <tbody>\n",
       "    <tr>\n",
       "      <th>Chicago</th>\n",
       "      <td>2.192339e+07</td>\n",
       "    </tr>\n",
       "    <tr>\n",
       "      <th>NewYork</th>\n",
       "      <td>9.107116e+07</td>\n",
       "    </tr>\n",
       "    <tr>\n",
       "      <th>LosAngeles</th>\n",
       "      <td>1.503435e+08</td>\n",
       "    </tr>\n",
       "    <tr>\n",
       "      <th>California</th>\n",
       "      <td>2.554244e+08</td>\n",
       "    </tr>\n",
       "  </tbody>\n",
       "</table>\n",
       "</div>"
      ],
      "text/plain": [
       "            avocado market\n",
       "region                    \n",
       "Chicago       2.192339e+07\n",
       "NewYork       9.107116e+07\n",
       "LosAngeles    1.503435e+08\n",
       "California    2.554244e+08"
      ]
     },
     "execution_count": 150,
     "metadata": {},
     "output_type": "execute_result"
    }
   ],
   "source": [
    "df_market = pd.merge(df_avocado,df_avocado_bags, how='inner', on=['region', 'Date'])\n",
    "df_market['avocado market'] = df_market['num_bags'] * df_market['price']\n",
    "assist = df_market.loc[(df_market['region'].isin(['California','NewYork','Chicago','LosAngeles']))]\n",
    "assist.groupby('region').agg({'avocado market': 'sum'}).sort_values('avocado market').head()"
   ]
  },
  {
   "cell_type": "code",
   "execution_count": 151,
   "metadata": {
    "id": "HUsrTqqACpUR"
   },
   "outputs": [],
   "source": [
    "ans['Q8'] = 1"
   ]
  },
  {
   "cell_type": "markdown",
   "metadata": {
    "id": "VwGOWaMHCpUU"
   },
   "source": [
    "### Q9.\n",
    "What year were avocado sales the highest? (in total, by avocado market, ignore that maybe data is missing for some years)\n",
    "\n",
    "1. 2015\n",
    "\n",
    "2. 2016\n",
    "\n",
    "3. 2017\n",
    "\n",
    "4. 2018"
   ]
  },
  {
   "cell_type": "code",
   "execution_count": 152,
   "metadata": {},
   "outputs": [
    {
     "data": {
      "text/html": [
       "<div>\n",
       "<style scoped>\n",
       "    .dataframe tbody tr th:only-of-type {\n",
       "        vertical-align: middle;\n",
       "    }\n",
       "\n",
       "    .dataframe tbody tr th {\n",
       "        vertical-align: top;\n",
       "    }\n",
       "\n",
       "    .dataframe thead th {\n",
       "        text-align: right;\n",
       "    }\n",
       "</style>\n",
       "<table border=\"1\" class=\"dataframe\">\n",
       "  <thead>\n",
       "    <tr style=\"text-align: right;\">\n",
       "      <th></th>\n",
       "      <th>avocado market</th>\n",
       "    </tr>\n",
       "    <tr>\n",
       "      <th>year_x</th>\n",
       "      <th></th>\n",
       "    </tr>\n",
       "  </thead>\n",
       "  <tbody>\n",
       "    <tr>\n",
       "      <th>2018</th>\n",
       "      <td>4.812983e+08</td>\n",
       "    </tr>\n",
       "    <tr>\n",
       "      <th>2015</th>\n",
       "      <td>7.730535e+08</td>\n",
       "    </tr>\n",
       "    <tr>\n",
       "      <th>2016</th>\n",
       "      <td>1.437407e+09</td>\n",
       "    </tr>\n",
       "    <tr>\n",
       "      <th>2017</th>\n",
       "      <td>1.822195e+09</td>\n",
       "    </tr>\n",
       "  </tbody>\n",
       "</table>\n",
       "</div>"
      ],
      "text/plain": [
       "        avocado market\n",
       "year_x                \n",
       "2018      4.812983e+08\n",
       "2015      7.730535e+08\n",
       "2016      1.437407e+09\n",
       "2017      1.822195e+09"
      ]
     },
     "execution_count": 152,
     "metadata": {},
     "output_type": "execute_result"
    }
   ],
   "source": [
    "assist = df_market.loc[(df_market['year_x'].isin([2015,2016,2017,2018]))]\n",
    "assist.groupby('year_x').agg({'avocado market': 'sum'}).sort_values('avocado market').head()"
   ]
  },
  {
   "cell_type": "code",
   "execution_count": 153,
   "metadata": {
    "id": "qjXLGzEBCpUV"
   },
   "outputs": [],
   "source": [
    "ans['Q9'] = 3"
   ]
  },
  {
   "cell_type": "markdown",
   "metadata": {},
   "source": [
    "### Q10.\n",
    "How many regions have a total avocado market above `15e06` in 2016?\n",
    "\n",
    "1. 1\n",
    "2. 11\n",
    "3. 14\n",
    "4. 26"
   ]
  },
  {
   "cell_type": "code",
   "execution_count": 154,
   "metadata": {},
   "outputs": [
    {
     "data": {
      "text/plain": [
       "(14, 1)"
      ]
     },
     "execution_count": 154,
     "metadata": {},
     "output_type": "execute_result"
    }
   ],
   "source": [
    "x = 15*(10**6)\n",
    "assist = df_market.loc[(df_market['year_x'] == 2016)]\n",
    "assist= assist.groupby('region').agg({'avocado market': 'sum'}).sort_values('avocado market')\n",
    "assist.loc[(assist['avocado market'] > x)].shape\n"
   ]
  },
  {
   "cell_type": "code",
   "execution_count": 155,
   "metadata": {},
   "outputs": [],
   "source": [
    "ans['Q10'] = 3"
   ]
  },
  {
   "cell_type": "markdown",
   "metadata": {},
   "source": [
    "### Q11.\n",
    "\n",
    "All regions have the same number of days reported in the year 2017 (challenge yourself to do this with as little code as possible)\n",
    "\n",
    "1. True\n",
    "2. False"
   ]
  },
  {
   "cell_type": "code",
   "execution_count": 156,
   "metadata": {},
   "outputs": [
    {
     "data": {
      "text/plain": [
       "1"
      ]
     },
     "execution_count": 156,
     "metadata": {},
     "output_type": "execute_result"
    }
   ],
   "source": [
    "df_market.loc[(df_market['year_x'] == 2017)].groupby('region').agg({'year_x':'sum'})['year_x'].unique().size\n"
   ]
  },
  {
   "cell_type": "code",
   "execution_count": 157,
   "metadata": {},
   "outputs": [],
   "source": [
    "ans['Q11'] = 1"
   ]
  },
  {
   "cell_type": "markdown",
   "metadata": {
    "id": "idik6OLHCpUX"
   },
   "source": [
    "## Data Science Basics"
   ]
  },
  {
   "cell_type": "markdown",
   "metadata": {
    "id": "-8RTgFRcCpUY"
   },
   "source": [
    "The following questions reference material from the first lecture and should be answered after the lecture."
   ]
  },
  {
   "cell_type": "markdown",
   "metadata": {
    "id": "bvttmWV9CpUa"
   },
   "source": [
    "### Q12.\n",
    "Which of the following is not primarily a data science project: \n",
    "\n",
    "1.\tCollect and analyze data from a linear accelerator, looking for a new particle\n",
    "\n",
    "2.\tBuild a robot which serves cocktail drinks\n",
    "\n",
    "3.\tGiven two website designs, test which one attracts more traffic\n",
    "\n",
    "4.\tDo an online poll to predict the outcome of an election\n"
   ]
  },
  {
   "cell_type": "code",
   "execution_count": 158,
   "metadata": {
    "id": "tBFrPNFgCpUb"
   },
   "outputs": [],
   "source": [
    "ans['Q12'] = 2"
   ]
  },
  {
   "cell_type": "markdown",
   "metadata": {
    "id": "DCpS-IsJCpUd"
   },
   "source": [
    "We mentioned in class that data science has three interweaved components:\n",
    "* Computing expertise\n",
    "* Statistical expertise\n",
    "* Domain expertise (e.g. Physics)\n",
    "\n",
    "Consider the following tasks involved in a hypothetical data science project to find a new particle: \n",
    "\n",
    "1.\tDesigning the database to hold results\n",
    "\n",
    "2.\tDeciding which signals should be collected, and what kind of signals we are looking for to identify a new particle\n",
    "\n",
    "3.\tFitting regression models to the data and performing statistical tests in search of the signals\n",
    "\n",
    "4.  Recruiting the right personnel to carry out the project \n",
    "\n",
    "### Q13.\n",
    "Which one of the above most clearly belongs to the statistical expertise category?\n",
    "### Q14.\n",
    "Which one most clearly belongs to the computing expertise category?\n",
    "### Q15.\n",
    "Which one most clearly belongs to the domain expertise category?"
   ]
  },
  {
   "cell_type": "code",
   "execution_count": 159,
   "metadata": {
    "id": "ddf86-2BCpUf"
   },
   "outputs": [],
   "source": [
    "ans['Q13'] = 3\n",
    "ans['Q14'] = 1\n",
    "ans['Q15'] = 2"
   ]
  },
  {
   "cell_type": "markdown",
   "metadata": {
    "id": "exWkrREh7wMr"
   },
   "source": [
    "# Finish!"
   ]
  },
  {
   "cell_type": "markdown",
   "metadata": {
    "id": "HFZ4KRxx7wMs"
   },
   "source": [
    "* To submit your HW please run this last code block and follow the instructions.\n",
    "* This code will create a CSV file in the current directory on your local machine or in your google drive (Google Colab)\n",
    "* Please download it and upload it to the moodle HW1\n",
    "* Make sure that you write your ID correctly!"
   ]
  },
  {
   "cell_type": "code",
   "execution_count": 160,
   "metadata": {},
   "outputs": [],
   "source": [
    "import pandas as pd\n",
    "\n",
    "df_ans = pd.DataFrame.from_dict(ans, orient='index')\n",
    "if df_ans.shape[0] == 18:\n",
    "  df_ans.to_csv('{}_{}.csv'.format(ans['HW'],str(ans['id_number'])))\n",
    "else:\n",
    "    print(\"seems like you missed a question, make sure you have run all the code blocks\")"
   ]
  },
  {
   "cell_type": "markdown",
   "metadata": {
    "id": "4Dr21V8PdKYq"
   },
   "source": [
    "**For Google Colab users who want to save their CSV in their drive**\n",
    "\n",
    "* Run the following script.\n",
    "* Note that you will need to authorize GD once. For more information: https://colab.research.google.com/notebooks/io.ipynb (under Mounting Google Drive locally)\n",
    "* You may change the path to be in your inner folder at GD, or not use GD at all and just manually download the CSV file to your local machine.\n",
    "* Eventually upload the CSV to Moodle."
   ]
  },
  {
   "cell_type": "code",
   "execution_count": 161,
   "metadata": {
    "colab": {
     "base_uri": "https://localhost:8080/",
     "height": 34
    },
    "executionInfo": {
     "elapsed": 831,
     "status": "ok",
     "timestamp": 1584218897593,
     "user": {
      "displayName": "איתי מנס",
      "photoUrl": "",
      "userId": "09271931009263547573"
     },
     "user_tz": -120
    },
    "id": "ZGuDTZrsdQpS",
    "outputId": "2754df84-a16e-4cb3-970a-6acd0aaa8482"
   },
   "outputs": [
    {
     "ename": "ModuleNotFoundError",
     "evalue": "No module named 'google'",
     "output_type": "error",
     "traceback": [
      "\u001b[1;31m---------------------------------------------------------------------------\u001b[0m",
      "\u001b[1;31mModuleNotFoundError\u001b[0m                       Traceback (most recent call last)",
      "Cell \u001b[1;32mIn[161], line 1\u001b[0m\n\u001b[1;32m----> 1\u001b[0m \u001b[39mfrom\u001b[39;00m \u001b[39mgoogle\u001b[39;00m\u001b[39m.\u001b[39;00m\u001b[39mcolab\u001b[39;00m \u001b[39mimport\u001b[39;00m drive\n\u001b[0;32m      2\u001b[0m drive\u001b[39m.\u001b[39mmount(\u001b[39m'\u001b[39m\u001b[39m/content/drive\u001b[39m\u001b[39m'\u001b[39m)\n\u001b[0;32m      4\u001b[0m \u001b[39m# Three options of the path of the file \u001b[39;00m\n",
      "\u001b[1;31mModuleNotFoundError\u001b[0m: No module named 'google'"
     ]
    }
   ],
   "source": [
    "from google.colab import drive\n",
    "drive.mount('/content/drive')\n",
    "\n",
    "# Three options of the path of the file \n",
    "path ='/content/drive/MyDrive/' # general outer folder\n",
    "# path = '/content/drive/MyDrive/Colab Notebooks/Intro_DS_2023/HW/HW2/' # assuming an inner folder called Intro_DS_2023 etc.\n",
    "# path = './' # here, in this notebook environment\n",
    "\n",
    "import pandas as pd \n",
    "df_ans = pd.DataFrame.from_dict(ans, orient='index')\n",
    "\n",
    "if df_ans.shape[0] == 18:\n",
    "  df_ans.to_csv(path+'{}_{}.csv'.format(ans['HW'],str(ans['id_number'])))\n",
    "else:\n",
    "    print(\"seems like you missed a question, make sure you have run all the code blocks\")\n"
   ]
  }
 ],
 "metadata": {
  "colab": {
   "provenance": []
  },
  "kernelspec": {
   "display_name": "Python 3",
   "language": "python",
   "name": "python3"
  },
  "language_info": {
   "codemirror_mode": {
    "name": "ipython",
    "version": 3
   },
   "file_extension": ".py",
   "mimetype": "text/x-python",
   "name": "python",
   "nbconvert_exporter": "python",
   "pygments_lexer": "ipython3",
   "version": "3.9.2"
  }
 },
 "nbformat": 4,
 "nbformat_minor": 1
}
