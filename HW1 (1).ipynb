{
 "cells": [
  {
   "cell_type": "markdown",
   "metadata": {
    "id": "YnRohru17wLT"
   },
   "source": [
    "# HW 1"
   ]
  },
  {
   "cell_type": "markdown",
   "metadata": {
    "id": "ovpLKg2W7wLV"
   },
   "source": [
    "## Instructions\n",
    "\n",
    "* The course will be using an automatic grading system.\n",
    "* After each question there will appear a code block with some prepared code to add your answer to a dictionary that will be converted into a data frame, saved as CSV and uploaded to moodle for grading.\n",
    "* Please do not edit any code other than in placeholders marked `#### your code here ####`\n",
    "* Don't forget to run the code block after you write your answer.\n",
    "* You can add code blocks wherever you want in order to interact with datasets and play with your own code.\n",
    "* In the next code block please fill in your ID number and email account as strings in the appropriate places.\n",
    "* And don't forget to run the block!"
   ]
  },
  {
   "cell_type": "code",
   "execution_count": 2,
   "metadata": {
    "id": "BW2FOBjS7wLX"
   },
   "outputs": [],
   "source": [
    "ans = {}\n",
    "ans['HW'] = 'HW1'\n",
    "ans['id_number'] = '318903028'\n",
    "ans['email'] = 'matantalvi@mail.tau.ac.il' "
   ]
  },
  {
   "cell_type": "markdown",
   "metadata": {
    "id": "n3TUC6dK7wLa"
   },
   "source": [
    "For multiple choice questions, replace the placeholder `#### your answer here ####` with the apropreate number.\n",
    "\n",
    "Let's practice with this example question:\n",
    "\n",
    "#### Do you understand the instructions?\n",
    "1. No\n",
    "2. Yes\n",
    "3. Not at all"
   ]
  },
  {
   "cell_type": "code",
   "execution_count": 3,
   "metadata": {
    "id": "e23qg3dg7wLb"
   },
   "outputs": [],
   "source": [
    "ans['example'] = 2"
   ]
  },
  {
   "cell_type": "markdown",
   "metadata": {
    "id": "GJHUR6bC7wL5"
   },
   "source": [
    "## Basics"
   ]
  },
  {
   "cell_type": "markdown",
   "metadata": {
    "id": "Jc2MScB1FSBz"
   },
   "source": [
    "### Q1.\n",
    "What is the length of `mylist`?\n",
    "\n",
    "```\n",
    "a = ['First','Qu']\n",
    "b = ['one']\n",
    "mylist = a+b\n",
    "mylist.append('all')\n",
    "mylist += 'one'\n",
    "```\n",
    "1. 7\n",
    "\n",
    "2. 4\n",
    "\n",
    "3. 5\n",
    "\n",
    "4. 10"
   ]
  },
  {
   "cell_type": "code",
   "execution_count": 4,
   "metadata": {
    "id": "tgVyJjUtFqyK"
   },
   "outputs": [],
   "source": [
    "ans['Q1'] = 1"
   ]
  },
  {
   "cell_type": "markdown",
   "metadata": {
    "id": "ET1enAUPtbjB"
   },
   "source": [
    "### Q2.\n",
    "Which of the following objects is mutable?\n",
    "1. strings\n",
    "\n",
    "2. tuple\n",
    "\n",
    "3. dictionary\n",
    "\n",
    "4. float\n"
   ]
  },
  {
   "cell_type": "code",
   "execution_count": 7,
   "metadata": {
    "id": "NFxRKgmK7wL6"
   },
   "outputs": [],
   "source": [
    "ans['Q2'] = 3"
   ]
  },
  {
   "cell_type": "markdown",
   "metadata": {
    "id": "60JKpTjL7wL6"
   },
   "source": [
    "### Q3.\n",
    "Which of the following list comprehensions would create a list containing all prime numbers under 100?\n",
    "\n",
    "1. `[possiblePrime for possiblePrime in range(2, 100) for num in range(2, possiblePrime) if possiblePrime % num != 0] `\n",
    "\n",
    "2. `{i: possiblePrime for i, possiblePrime in enumerate(range(2, 100)) if all(possiblePrime % num != 0 for num in range(2, possiblePrime))}`\n",
    "\n",
    "3. `[possiblePrime for possiblePrime in range(2, 100) if all(possiblePrime % num != 0 for num in range(2, possiblePrime))]`\n",
    "\n",
    "4. `list({possiblePrime for possiblePrime in range(2, 100) for num in range(2, possiblePrime) if possiblePrime % num == 0})` \n"
   ]
  },
  {
   "cell_type": "code",
   "execution_count": 10,
   "metadata": {
    "id": "sS0gRFq5GTFz"
   },
   "outputs": [],
   "source": [
    "ans['Q3'] = 3"
   ]
  },
  {
   "cell_type": "markdown",
   "metadata": {
    "id": "9ay0eCdx3Fs2"
   },
   "source": [
    "### Q4.\n",
    "What is the output of the following code?\n",
    "\n",
    "```\n",
    "for i, x in enumerate(['A','B','C']):\n",
    "    print(i, 2*x)\n",
    "```\n",
    "1. 0 2A \n",
    "\n",
    "   1 2B\n",
    "\n",
    "   2 2C\n",
    "\n",
    "\n",
    "2. 0 AA \n",
    "\n",
    "   1 BB\n",
    "\n",
    "   2 CC\n",
    "\n",
    "\n",
    "3. 0 A \n",
    "\n",
    "   1 B\n",
    "\n",
    "   2 C\n",
    "\n",
    "\n",
    "4. 1 A \n",
    "\n",
    "   2 B\n",
    "\n",
    "   3 C"
   ]
  },
  {
   "cell_type": "code",
   "execution_count": 11,
   "metadata": {
    "id": "0_M4q04n21br"
   },
   "outputs": [],
   "source": [
    "ans['Q4'] = 2"
   ]
  },
  {
   "cell_type": "markdown",
   "metadata": {
    "id": "x_wFOfxnIyEG"
   },
   "source": [
    "### Q5.\n",
    "In which one of the following dictionaries there *might* be a problem (not necessarily an error)?\n",
    "\n",
    "1. `{'Abc':23,'Abc':94,'A':93,'Aa':[2,3]}`\n",
    "\n",
    "2. `{1:1,2:2,3:3,4:5}`\n",
    "\n",
    "3. `dict(A = \"John\", B = 36, c = \"John\")`\n",
    "\n",
    "4. `{'AB':11, 'ab':11}`"
   ]
  },
  {
   "cell_type": "code",
   "execution_count": 12,
   "metadata": {
    "id": "-V8w9C0bGikq"
   },
   "outputs": [],
   "source": [
    "ans['Q5'] = 1"
   ]
  },
  {
   "cell_type": "markdown",
   "metadata": {
    "id": "8H774pwDUKl7"
   },
   "source": [
    "### Q6.\n",
    "What is the output of the following function?\n",
    "\n",
    "```\n",
    "def func(x1, x2):\n",
    "  '''\n",
    "  input: x1 - string, x2 - string (x1>x2)\n",
    "  '''\n",
    "  c = 0\n",
    "  l = []\n",
    "  for i in x1:\n",
    "    if i in x2:\n",
    "      c+=1\n",
    "      l.append(i)\n",
    "  return(c, l)\n",
    "```\n",
    "1. counts of different characters in x1, and x2 as a list\n",
    "\n",
    "2. counts of the characters from x2 that are also in x1,  and a list of those characters\n",
    "\n",
    "3. counts of the characters from x2 that are not in x1,  and a list of those characters\n",
    "\n",
    "4. counts of the characters from x1 that are also in x2,  and a list of those characters\n",
    "\n"
   ]
  },
  {
   "cell_type": "code",
   "execution_count": 13,
   "metadata": {
    "id": "ANdlq18fUF2c"
   },
   "outputs": [],
   "source": [
    "ans['Q6'] = 4"
   ]
  },
  {
   "cell_type": "markdown",
   "metadata": {
    "id": "7um-rPt07wL_"
   },
   "source": [
    "## Numpy"
   ]
  },
  {
   "cell_type": "code",
   "execution_count": 8,
   "metadata": {
    "id": "_yYa8meXuV0j"
   },
   "outputs": [],
   "source": [
    "import numpy as np"
   ]
  },
  {
   "cell_type": "markdown",
   "metadata": {
    "id": "ltG8eXZnErri"
   },
   "source": [
    "### Q7.\n",
    "How to preform standard matrix multiplication on two numpy arrays (A, B)?\n",
    "\n",
    "1. np.sum(A+B)\n",
    "\n",
    "2. np.dot(A,B)\n",
    "\n",
    "3. A * B\n",
    "\n",
    "4. A \\ B\n"
   ]
  },
  {
   "cell_type": "code",
   "execution_count": 14,
   "metadata": {
    "id": "Na1h35FScX03"
   },
   "outputs": [],
   "source": [
    "ans['Q7'] = 3"
   ]
  },
  {
   "cell_type": "markdown",
   "metadata": {
    "id": "J4viavIu7wMA"
   },
   "source": [
    "### Q8.\n",
    "What does the following statement do, from left to right? (assume `import numpy as np`)\n",
    "\n",
    "```\n",
    "(np.zeros((3, 3)) + 1) / np.array([1, 2, 3])\n",
    "```\n",
    "\n",
    "1. It creates a 3x3 array of zeros, adds 1 to all values, then throws an exception for trying to divide a 3x3 array with a 1D arrray\n",
    "\n",
    "2. It creates a 3x3 array of zeros, adds 1 to all values and divides each row elementwise by the row [1, 2, 3]\n",
    "\n",
    "3. It creates a 3x3 array of zeros, then throws an exception for trying to add a constant to a numpy array\n",
    "\n",
    "4. It takes a tuple (3,3), makes it (0,0), adds 1 to all values and divides each row elementwise by the row [1, 2, 3]\n"
   ]
  },
  {
   "cell_type": "code",
   "execution_count": 15,
   "metadata": {
    "id": "07x0AvqK7wMB"
   },
   "outputs": [],
   "source": [
    "ans['Q8'] = 2"
   ]
  },
  {
   "cell_type": "markdown",
   "metadata": {
    "id": "uo1uCYtc7wME"
   },
   "source": [
    "### Q9.\n",
    "What will be the output of the following statement? (make sure you understand why)\n",
    "\n",
    "```\n",
    "np.array(range(10))[1:-2][::-3].sum()\n",
    "```\n",
    "\n",
    "1. 28\n",
    "\n",
    "2. 20\n",
    "\n",
    "3. 15\n",
    "\n",
    "4. 12"
   ]
  },
  {
   "cell_type": "code",
   "execution_count": 16,
   "metadata": {
    "id": "FxZ1cN1B7wMF"
   },
   "outputs": [],
   "source": [
    "ans['Q9'] = 4"
   ]
  },
  {
   "cell_type": "markdown",
   "metadata": {},
   "source": [
    "### Q10.\n",
    "The following code will result in an error. Why?\n",
    "```\n",
    "a = np.array([[1, 2], [3, 4]])\n",
    "b = np.array([[5, 6]])\n",
    "c = np.concatenate((a, b), axis=0)\n",
    "d = b @ c\n",
    "```\n",
    "1. You cannot concatenate a 1x2 matrix to a 2x2 matrix to the right, changing to `axis=1` in 3rd row fixes this\n",
    "2. You cannot concatenate a tuple of numpy arrays, you need to input a list\n",
    "3. `c` is a list of numpy arrays so it cannot be used with `@`\n",
    "4. You cannot multiply a 2x2 matrix with a 3x2 matrix"
   ]
  },
  {
   "cell_type": "code",
   "execution_count": 17,
   "metadata": {},
   "outputs": [],
   "source": [
    "ans['Q10'] = 4"
   ]
  },
  {
   "cell_type": "markdown",
   "metadata": {},
   "source": [
    "### Q11.\n",
    "Which of the following will create this array? (make sure you understand why)\n",
    "```\n",
    "array([[ 1, 11],\n",
    "       [ 3, 13],\n",
    "       [ 5, 15],\n",
    "       [ 7, 17],\n",
    "       [ 9, 19]])\n",
    "```\n",
    "1. `np.arange(20, 2).reshape((5, 2), order='F')`\n",
    "2. `np.arange(1, 20, 2).reshape((5, 2))`\n",
    "3. `np.reshape(np.arange(1, 21, 2), (5, 2), order='F')`\n",
    "4. `np.reshape(np.arange(10)*2, (5, 2), order='F')`"
   ]
  },
  {
   "cell_type": "code",
   "execution_count": 18,
   "metadata": {},
   "outputs": [],
   "source": [
    "ans['Q11'] = 3"
   ]
  },
  {
   "cell_type": "markdown",
   "metadata": {
    "id": "404W8ZYzsmmV"
   },
   "source": [
    "# Math refresher"
   ]
  },
  {
   "cell_type": "markdown",
   "metadata": {
    "id": "isYgEgGBspi-"
   },
   "source": [
    "## Algebra"
   ]
  },
  {
   "cell_type": "markdown",
   "metadata": {},
   "source": [
    "### Q12.\n",
    "Given a matrix $X_{n\\times n}$, what conditions are required for it to be invertible\n",
    "\n",
    "1. That it is full rank, and the main diagonal elements are not 0\n",
    "\n",
    "2. That all its main diagonal elements are not 0\n",
    "\n",
    "3. That it is full rank\n",
    "\n",
    "4. That its main diagonal is all ones\n"
   ]
  },
  {
   "cell_type": "code",
   "execution_count": 19,
   "metadata": {},
   "outputs": [],
   "source": [
    "ans['Q12'] = 3"
   ]
  },
  {
   "cell_type": "markdown",
   "metadata": {
    "id": "4NqQQKYVstLm"
   },
   "source": [
    "### Q13.\n",
    "Given column vector $x$ of length $n$, what kind of object is $x x^t$  and what is its rank?\n",
    "\n",
    "1. $n\\times n$ matrix, rank can be between $1$ and $n$\n",
    "\n",
    "2. $n \\times 1$ matrix (a vector), rank is $1$\n",
    "\n",
    "3. $1 \\times 1$ matrix (a scalar), rank is $1$\n",
    "\n",
    "4. $n\\times  n$ matrix, rank is $1$"
   ]
  },
  {
   "cell_type": "code",
   "execution_count": null,
   "metadata": {
    "id": "hlVH48trsvK4"
   },
   "outputs": [],
   "source": [
    "ans['Q13'] = 4"
   ]
  },
  {
   "cell_type": "markdown",
   "metadata": {
    "id": "mpV49BZ6s3VI"
   },
   "source": [
    "## Probability"
   ]
  },
  {
   "cell_type": "markdown",
   "metadata": {
    "id": "JX1X2td2s5Dk"
   },
   "source": [
    "### Q14.\n",
    "$X , Y$ are random variables, which of the following is true: \n",
    "\n",
    "1. $E(X+Y) = E(X) + E(Y)$ and $E(XY) = E(X)E(Y)$\n",
    "\n",
    "2. $Var(X+Y) = Var(X) + Var(Y)$ if $X, Y$ are independent\n",
    "\n",
    "3. $Var(X+Y) = Var(X) + Var(X) + Cov(X,Y)$\n",
    "\n",
    "4. Both 1 and 3"
   ]
  },
  {
   "cell_type": "code",
   "execution_count": 20,
   "metadata": {
    "id": "tVAtG8X2s6tE"
   },
   "outputs": [],
   "source": [
    "ans['Q14'] = 2"
   ]
  },
  {
   "cell_type": "markdown",
   "metadata": {
    "id": "2h_4AFVPs86l"
   },
   "source": [
    "### Q15.\n",
    "We have a fair coin, and we define a random variable that is equal 1 if heads come up and 0 if tails. What kind of distribution do the outcome of a single flip and the sum of outcomes of 10 flips have?\n",
    "\n",
    "1. $Uniform(0,1)$ and $Bernoulli(1)$, respectively\n",
    "\n",
    "2. $Poisson(1)$ and $Poisson(10)$, respectively\n",
    "\n",
    "3. $Bernoulli(1)$ and $Bernoulli(10)$, respectively\n",
    "\n",
    "4. $Bernoulli(0.5)$ and $Binomial(10,0.5)$, respectively"
   ]
  },
  {
   "cell_type": "code",
   "execution_count": null,
   "metadata": {
    "id": "5SzYS1iDs-_F"
   },
   "outputs": [],
   "source": [
    "ans['Q15'] = 4"
   ]
  },
  {
   "cell_type": "markdown",
   "metadata": {
    "id": "vmNwcpm3tBNs"
   },
   "source": [
    "### Q16.\n",
    "I am throwing a fair dice twice, what is the conditional probability that the first throw gives 1, GIVEN that the sum of the throws is 3? \n",
    "\n",
    "1. $^1/_2$\n",
    "\n",
    "2. $1$\n",
    "\n",
    "3. $^1/_6$\n",
    "\n",
    "4. $^1/_3$\n"
   ]
  },
  {
   "cell_type": "code",
   "execution_count": null,
   "metadata": {
    "id": "6zM1FZ4Dts6r"
   },
   "outputs": [],
   "source": [
    "ans['Q16'] = #### your code here ####"
   ]
  },
  {
   "cell_type": "markdown",
   "metadata": {
    "id": "BhNkOJIGtvqK"
   },
   "source": [
    "### Q17.\n",
    "In the same situation, what is the probability that the sum is 3 AND the first throw gives 1?\n",
    "\n",
    "1. $^1/_6$\n",
    "\n",
    "2. $^1/_{36}$\n",
    "\n",
    "3. $^1/_{18}$\n",
    "\n",
    "4. $^1/_4$ \n"
   ]
  },
  {
   "cell_type": "code",
   "execution_count": null,
   "metadata": {
    "id": "r1jZjM1atxiv"
   },
   "outputs": [],
   "source": [
    "ans['Q17'] = #### your code here ####"
   ]
  },
  {
   "cell_type": "markdown",
   "metadata": {},
   "source": [
    "### Q18.\n",
    "Danny is starting a new job with some really weird compensation program.\n",
    "* On day 1 she will get 1 million dollars with probability $^1/_2$\n",
    "* On day 2 she will get 1 million dollars with probability $^1/_4$\n",
    "* ...\n",
    "* On day $n$ she will get 1 million dollars with probability $(^1/_2)^n$\n",
    "\n",
    "What is the total amount of dollars Danny should **expect** to receive after working a very large number of days $n$ at this job?\n",
    "\n",
    "1. 1M dollars\n",
    "2. 2M dollars\n",
    "3. 3M dollars\n",
    "4. Infinity amount of dollars"
   ]
  },
  {
   "cell_type": "code",
   "execution_count": null,
   "metadata": {},
   "outputs": [],
   "source": [
    "ans['Q18'] = #### your code here ####"
   ]
  },
  {
   "cell_type": "markdown",
   "metadata": {},
   "source": [
    "### Q19.\n",
    "Continuing with Danny, what is the chance she ends up with zero dollars?\n",
    "1. Practically 0%\n",
    "2. About 29%\n",
    "3. About 62%\n",
    "4. About 71%"
   ]
  },
  {
   "cell_type": "code",
   "execution_count": null,
   "metadata": {},
   "outputs": [],
   "source": [
    "ans['Q19'] = #### your code here ####"
   ]
  },
  {
   "cell_type": "markdown",
   "metadata": {},
   "source": [
    "### Q20.\n",
    "After 100 days of working Danny got **in total** 1 million dollars. Knowing that, what is the probability she got them on day 1?\n",
    "\n",
    "1. Exactly 1%\n",
    "2. About 29%\n",
    "3. Exactly 50%\n",
    "4. About 62%"
   ]
  },
  {
   "cell_type": "code",
   "execution_count": null,
   "metadata": {},
   "outputs": [],
   "source": [
    "ans['Q20'] = #### your code here ####"
   ]
  },
  {
   "cell_type": "markdown",
   "metadata": {
    "id": "exWkrREh7wMr"
   },
   "source": [
    "# Finish!"
   ]
  },
  {
   "cell_type": "markdown",
   "metadata": {
    "id": "HFZ4KRxx7wMs"
   },
   "source": [
    "* To submit your HW please run this last code block and follow the instructions.\n",
    "* This code will create a CSV file in the current directory on your local machine or in your google drive (Google Colab)\n",
    "* Please download it and upload it to the moodle HW1\n",
    "* Make sure that you write your ID correctly!"
   ]
  },
  {
   "cell_type": "code",
   "execution_count": null,
   "metadata": {},
   "outputs": [],
   "source": [
    "import pandas as pd\n",
    "\n",
    "df_ans = pd.DataFrame.from_dict(ans, orient='index')\n",
    "if df_ans.shape[0] == 24:\n",
    "  df_ans.to_csv('{}_{}.csv'.format(ans['HW'],str(ans['id_number'])))\n",
    "else:\n",
    "    print(\"seems like you missed a question, make sure you have run all the code blocks\")"
   ]
  },
  {
   "cell_type": "markdown",
   "metadata": {
    "id": "4Dr21V8PdKYq"
   },
   "source": [
    "**For Google Colab users who want to save their CSV in their drive**\n",
    "\n",
    "* Run the following script.\n",
    "* Note that you will need to authorize GD once. For more information: https://colab.research.google.com/notebooks/io.ipynb (under Mounting Google Drive locally)\n",
    "* You may change the path to be in your inner folder at GD, or not use GD at all and just manually download the CSV file to your local machine.\n",
    "* Eventually upload the CSV to Moodle."
   ]
  },
  {
   "cell_type": "code",
   "execution_count": null,
   "metadata": {
    "colab": {
     "base_uri": "https://localhost:8080/",
     "height": 34
    },
    "executionInfo": {
     "elapsed": 831,
     "status": "ok",
     "timestamp": 1584218897593,
     "user": {
      "displayName": "איתי מנס",
      "photoUrl": "",
      "userId": "09271931009263547573"
     },
     "user_tz": -120
    },
    "id": "ZGuDTZrsdQpS",
    "outputId": "2754df84-a16e-4cb3-970a-6acd0aaa8482"
   },
   "outputs": [
    {
     "name": "stdout",
     "output_type": "stream",
     "text": [
      "Drive already mounted at /content/drive; to attempt to forcibly remount, call drive.mount(\"/content/drive\", force_remount=True).\n"
     ]
    }
   ],
   "source": [
    "from google.colab import drive\n",
    "drive.mount('/content/drive')\n",
    "\n",
    "# Three options of the path of the file \n",
    "path ='/content/drive/MyDrive/' # general outer folder\n",
    "# path = '/content/drive/MyDrive/Colab Notebooks/Intro_DS_2023/HW/HW1/' # assuming an inner folder called Intro_DS_2023 etc.\n",
    "# path = './' # here, in this notebook environment\n",
    "\n",
    "import pandas as pd \n",
    "df_ans = pd.DataFrame.from_dict(ans, orient='index')\n",
    "\n",
    "if df_ans.shape[0] == 24:\n",
    "  df_ans.to_csv(path+'{}_{}.csv'.format(ans['HW'],str(ans['id_number'])))\n",
    "else:\n",
    "    print(\"seems like you missed a question, make sure you have run all the code blocks\")\n"
   ]
  }
 ],
 "metadata": {
  "colab": {
   "provenance": [
    {
     "file_id": "1lmrewFl77140dXw0aphWRwNbSLboGgOQ",
     "timestamp": 1583915448859
    },
    {
     "file_id": "https://github.com/tau-es-ds/intro2DS_2019/blob/master/HomeWork/HW1/HW1-fixed.ipynb",
     "timestamp": 1583166465437
    }
   ]
  },
  "kernelspec": {
   "display_name": "Python 3",
   "language": "python",
   "name": "python3"
  },
  "language_info": {
   "codemirror_mode": {
    "name": "ipython",
    "version": 3
   },
   "file_extension": ".py",
   "mimetype": "text/x-python",
   "name": "python",
   "nbconvert_exporter": "python",
   "pygments_lexer": "ipython3",
   "version": "3.9.2"
  }
 },
 "nbformat": 4,
 "nbformat_minor": 1
}
